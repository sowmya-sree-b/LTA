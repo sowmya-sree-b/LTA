{
 "cells": [
  {
   "cell_type": "markdown",
   "metadata": {
    "id": "E_Mp3CuOSio7"
   },
   "source": [
    "# **Getting started**  "
   ]
  },
  {
   "cell_type": "markdown",
   "metadata": {
    "id": "FF2_yeDnCb-z"
   },
   "source": [
    "setting up the required data files location from google drive "
   ]
  },
  {
   "cell_type": "code",
   "execution_count": 89,
   "metadata": {
    "colab": {
     "base_uri": "https://localhost:8080/"
    },
    "id": "Uop7UQXASW3Y",
    "outputId": "1d9ad3bb-8c2d-4fe8-d59a-87c1d5b39d04"
   },
   "outputs": [
    {
     "name": "stdout",
     "output_type": "stream",
     "text": [
      "Drive already mounted at /content/drive; to attempt to forcibly remount, call drive.mount(\"/content/drive\", force_remount=True).\n"
     ]
    }
   ],
   "source": [
    "#lodaing files folder from google drive \n",
    "#give file path in drive.mount('file path')\n",
    "from google.colab import drive\n",
    "drive.mount('/content/drive')"
   ]
  },
  {
   "cell_type": "code",
   "execution_count": 90,
   "metadata": {
    "id": "4FN7ULV_qx55"
   },
   "outputs": [],
   "source": [
    "#importing libraries \n",
    "import nltk\n",
    "import os\n",
    "import re\n",
    "import numpy as np\n",
    "import pandas as pd\n",
    "from nltk.corpus import PlaintextCorpusReader,stopwords"
   ]
  },
  {
   "cell_type": "markdown",
   "metadata": {
    "id": "w2jZGBNGaWd7"
   },
   "source": [
    "# ***extracting data into data frame***"
   ]
  },
  {
   "cell_type": "code",
   "execution_count": 91,
   "metadata": {
    "colab": {
     "base_uri": "https://localhost:8080/",
     "height": 838
    },
    "id": "JrHxppvL5D3V",
    "outputId": "46d58683-0e6b-4c4b-f8fa-1ecc8a840903"
   },
   "outputs": [
    {
     "data": {
      "text/html": [
       "\n",
       "  <div id=\"df-12bb6a8b-c3f6-417b-a369-f6dc3df88d6d\">\n",
       "    <div class=\"colab-df-container\">\n",
       "      <div>\n",
       "<style scoped>\n",
       "    .dataframe tbody tr th:only-of-type {\n",
       "        vertical-align: middle;\n",
       "    }\n",
       "\n",
       "    .dataframe tbody tr th {\n",
       "        vertical-align: top;\n",
       "    }\n",
       "\n",
       "    .dataframe thead th {\n",
       "        text-align: right;\n",
       "    }\n",
       "</style>\n",
       "<table border=\"1\" class=\"dataframe\">\n",
       "  <thead>\n",
       "    <tr style=\"text-align: right;\">\n",
       "      <th></th>\n",
       "      <th>Filename</th>\n",
       "      <th>Document Name</th>\n",
       "      <th>Document Name-Answer</th>\n",
       "      <th>Parties</th>\n",
       "      <th>Parties-Answer</th>\n",
       "      <th>Agreement Date</th>\n",
       "      <th>Agreement Date-Answer</th>\n",
       "      <th>Effective Date</th>\n",
       "      <th>Effective Date-Answer</th>\n",
       "      <th>Expiration Date</th>\n",
       "      <th>Expiration Date-Answer</th>\n",
       "      <th>Renewal Term</th>\n",
       "      <th>Renewal Term-Answer</th>\n",
       "      <th>Notice Period To Terminate Renewal</th>\n",
       "      <th>Notice Period To Terminate Renewal- Answer</th>\n",
       "      <th>Governing Law</th>\n",
       "      <th>Governing Law-Answer</th>\n",
       "      <th>Most Favored Nation</th>\n",
       "      <th>Most Favored Nation-Answer</th>\n",
       "      <th>Competitive Restriction Exception</th>\n",
       "      <th>Competitive Restriction Exception-Answer</th>\n",
       "      <th>Non-Compete</th>\n",
       "      <th>Non-Compete-Answer</th>\n",
       "      <th>Exclusivity</th>\n",
       "      <th>Exclusivity-Answer</th>\n",
       "      <th>No-Solicit Of Customers</th>\n",
       "      <th>No-Solicit Of Customers-Answer</th>\n",
       "      <th>No-Solicit Of Employees</th>\n",
       "      <th>No-Solicit Of Employees-Answer</th>\n",
       "      <th>Non-Disparagement</th>\n",
       "      <th>Non-Disparagement-Answer</th>\n",
       "      <th>Termination For Convenience</th>\n",
       "      <th>Termination For Convenience-Answer</th>\n",
       "      <th>Rofr/Rofo/Rofn</th>\n",
       "      <th>Rofr/Rofo/Rofn-Answer</th>\n",
       "      <th>Change Of Control</th>\n",
       "      <th>Change Of Control-Answer</th>\n",
       "      <th>Anti-Assignment</th>\n",
       "      <th>Anti-Assignment-Answer</th>\n",
       "      <th>Revenue/Profit Sharing</th>\n",
       "      <th>...</th>\n",
       "      <th>Minimum Commitment</th>\n",
       "      <th>Minimum Commitment-Answer</th>\n",
       "      <th>Volume Restriction</th>\n",
       "      <th>Volume Restriction-Answer</th>\n",
       "      <th>Ip Ownership Assignment</th>\n",
       "      <th>Ip Ownership Assignment-Answer</th>\n",
       "      <th>Joint Ip Ownership</th>\n",
       "      <th>Joint Ip Ownership-Answer</th>\n",
       "      <th>License Grant</th>\n",
       "      <th>License Grant-Answer</th>\n",
       "      <th>Non-Transferable License</th>\n",
       "      <th>Non-Transferable License-Answer</th>\n",
       "      <th>Affiliate License-Licensor</th>\n",
       "      <th>Affiliate License-Licensor-Answer</th>\n",
       "      <th>Affiliate License-Licensee</th>\n",
       "      <th>Affiliate License-Licensee-Answer</th>\n",
       "      <th>Unlimited/All-You-Can-Eat-License</th>\n",
       "      <th>Unlimited/All-You-Can-Eat-License-Answer</th>\n",
       "      <th>Irrevocable Or Perpetual License</th>\n",
       "      <th>Irrevocable Or Perpetual License-Answer</th>\n",
       "      <th>Source Code Escrow</th>\n",
       "      <th>Source Code Escrow-Answer</th>\n",
       "      <th>Post-Termination Services</th>\n",
       "      <th>Post-Termination Services-Answer</th>\n",
       "      <th>Audit Rights</th>\n",
       "      <th>Audit Rights-Answer</th>\n",
       "      <th>Uncapped Liability</th>\n",
       "      <th>Uncapped Liability-Answer</th>\n",
       "      <th>Cap On Liability</th>\n",
       "      <th>Cap On Liability-Answer</th>\n",
       "      <th>Liquidated Damages</th>\n",
       "      <th>Liquidated Damages-Answer</th>\n",
       "      <th>Warranty Duration</th>\n",
       "      <th>Warranty Duration-Answer</th>\n",
       "      <th>Insurance</th>\n",
       "      <th>Insurance-Answer</th>\n",
       "      <th>Covenant Not To Sue</th>\n",
       "      <th>Covenant Not To Sue-Answer</th>\n",
       "      <th>Third Party Beneficiary</th>\n",
       "      <th>Third Party Beneficiary-Answer</th>\n",
       "    </tr>\n",
       "  </thead>\n",
       "  <tbody>\n",
       "    <tr>\n",
       "      <th>0</th>\n",
       "      <td>2ThemartComInc_19990826_10-12G_EX-10.10_670028...</td>\n",
       "      <td>['CO-BRANDING AND ADVERTISING AGREEMENT']</td>\n",
       "      <td>CO-BRANDING AND ADVERTISING AGREEMENT</td>\n",
       "      <td>['2THEMART.COM, INC.', '2TheMart', 'i-Escrow',...</td>\n",
       "      <td>I-ESCROW, INC.  (\"i-Escrow\" ); 2THEMART.COM, I...</td>\n",
       "      <td>['June 21, 1999']</td>\n",
       "      <td>6/21/99</td>\n",
       "      <td>['June 21, 1999']</td>\n",
       "      <td>6/21/99</td>\n",
       "      <td>['The term of this Agreement shall continue fo...</td>\n",
       "      <td>6/21/00</td>\n",
       "      <td>['In the event that either party does not give...</td>\n",
       "      <td>Successive 1 year</td>\n",
       "      <td>['In the event that either party does not give...</td>\n",
       "      <td>30 days</td>\n",
       "      <td>['This Agreement will be governed and construe...</td>\n",
       "      <td>California</td>\n",
       "      <td>[]</td>\n",
       "      <td>No</td>\n",
       "      <td>[]</td>\n",
       "      <td>No</td>\n",
       "      <td>[\"i-Escrow shall not run banner advertisements...</td>\n",
       "      <td>Yes</td>\n",
       "      <td>[]</td>\n",
       "      <td>No</td>\n",
       "      <td>[]</td>\n",
       "      <td>No</td>\n",
       "      <td>[]</td>\n",
       "      <td>No</td>\n",
       "      <td>[]</td>\n",
       "      <td>No</td>\n",
       "      <td>[]</td>\n",
       "      <td>No</td>\n",
       "      <td>[]</td>\n",
       "      <td>No</td>\n",
       "      <td>[\"If a majority of the equity securities of ei...</td>\n",
       "      <td>Yes</td>\n",
       "      <td>['All rights (under any applicable intellectua...</td>\n",
       "      <td>Yes</td>\n",
       "      <td>['After the Launch Date, i-Escrow shall pay 2T...</td>\n",
       "      <td>...</td>\n",
       "      <td>[]</td>\n",
       "      <td>No</td>\n",
       "      <td>[]</td>\n",
       "      <td>No</td>\n",
       "      <td>[]</td>\n",
       "      <td>No</td>\n",
       "      <td>['Notwithstanding the foregoing, to the extent...</td>\n",
       "      <td>Yes</td>\n",
       "      <td>['Subject to the terms and conditions of this ...</td>\n",
       "      <td>Yes</td>\n",
       "      <td>['Subject to the terms and conditions of this ...</td>\n",
       "      <td>Yes</td>\n",
       "      <td>[]</td>\n",
       "      <td>No</td>\n",
       "      <td>[]</td>\n",
       "      <td>No</td>\n",
       "      <td>[]</td>\n",
       "      <td>No</td>\n",
       "      <td>[]</td>\n",
       "      <td>No</td>\n",
       "      <td>[]</td>\n",
       "      <td>No</td>\n",
       "      <td>['Notwithstanding the foregoing, unless this A...</td>\n",
       "      <td>Yes</td>\n",
       "      <td>[\"Such inspection shall be at 2TheMart's expen...</td>\n",
       "      <td>Yes</td>\n",
       "      <td>['EXCEPT IN THE EVENT OF A BREACH OF SECTION 1...</td>\n",
       "      <td>Yes</td>\n",
       "      <td>['EXCEPT IN THE EVENT OF A BREACH OF SECTION 1...</td>\n",
       "      <td>Yes</td>\n",
       "      <td>[]</td>\n",
       "      <td>No</td>\n",
       "      <td>[]</td>\n",
       "      <td>No</td>\n",
       "      <td>[]</td>\n",
       "      <td>No</td>\n",
       "      <td>[]</td>\n",
       "      <td>No</td>\n",
       "      <td>[]</td>\n",
       "      <td>No</td>\n",
       "    </tr>\n",
       "    <tr>\n",
       "      <th>1</th>\n",
       "      <td>ABILITYINC_06_15_2020-EX-4.25-SERVICES AGREEME...</td>\n",
       "      <td>['Services Agreement']</td>\n",
       "      <td>Services Agreement</td>\n",
       "      <td>['\"Provider\"', 'TELCOSTAR PTE, LTD.', 'Each of...</td>\n",
       "      <td>[ * * * ] (\"Provider\"); TELCOSTAR PTE, LTD.; A...</td>\n",
       "      <td>['October 1, 2019']</td>\n",
       "      <td>10/01/2019</td>\n",
       "      <td>['November 1, 2019']</td>\n",
       "      <td>11/01/2019</td>\n",
       "      <td>['This Agreement be deemed effective as of the...</td>\n",
       "      <td>12/31/20</td>\n",
       "      <td>[]</td>\n",
       "      <td>NaN</td>\n",
       "      <td>[]</td>\n",
       "      <td>NaN</td>\n",
       "      <td>['This Agreement and any claim, controversy or...</td>\n",
       "      <td>Israel</td>\n",
       "      <td>[]</td>\n",
       "      <td>No</td>\n",
       "      <td>[]</td>\n",
       "      <td>No</td>\n",
       "      <td>[]</td>\n",
       "      <td>No</td>\n",
       "      <td>[]</td>\n",
       "      <td>No</td>\n",
       "      <td>[]</td>\n",
       "      <td>No</td>\n",
       "      <td>[]</td>\n",
       "      <td>No</td>\n",
       "      <td>[]</td>\n",
       "      <td>No</td>\n",
       "      <td>['Each of the Recipient and the Provider may, ...</td>\n",
       "      <td>Yes</td>\n",
       "      <td>[]</td>\n",
       "      <td>No</td>\n",
       "      <td>[]</td>\n",
       "      <td>No</td>\n",
       "      <td>['Provider may not assign, delegate or otherwi...</td>\n",
       "      <td>Yes</td>\n",
       "      <td>[]</td>\n",
       "      <td>...</td>\n",
       "      <td>[]</td>\n",
       "      <td>No</td>\n",
       "      <td>[]</td>\n",
       "      <td>No</td>\n",
       "      <td>['To the extent that any writings or works of ...</td>\n",
       "      <td>Yes</td>\n",
       "      <td>[]</td>\n",
       "      <td>No</td>\n",
       "      <td>[]</td>\n",
       "      <td>No</td>\n",
       "      <td>[]</td>\n",
       "      <td>No</td>\n",
       "      <td>[]</td>\n",
       "      <td>No</td>\n",
       "      <td>[]</td>\n",
       "      <td>No</td>\n",
       "      <td>[]</td>\n",
       "      <td>No</td>\n",
       "      <td>[]</td>\n",
       "      <td>No</td>\n",
       "      <td>[]</td>\n",
       "      <td>No</td>\n",
       "      <td>[]</td>\n",
       "      <td>No</td>\n",
       "      <td>[]</td>\n",
       "      <td>No</td>\n",
       "      <td>[]</td>\n",
       "      <td>No</td>\n",
       "      <td>[]</td>\n",
       "      <td>No</td>\n",
       "      <td>[]</td>\n",
       "      <td>No</td>\n",
       "      <td>[]</td>\n",
       "      <td>No</td>\n",
       "      <td>[]</td>\n",
       "      <td>No</td>\n",
       "      <td>[]</td>\n",
       "      <td>No</td>\n",
       "      <td>[]</td>\n",
       "      <td>No</td>\n",
       "    </tr>\n",
       "    <tr>\n",
       "      <th>2</th>\n",
       "      <td>ACCELERATEDTECHNOLOGIESHOLDINGCORP_04_24_2003-...</td>\n",
       "      <td>['JOINT VENTURE AGREEMENT']</td>\n",
       "      <td>JOINT VENTURE AGREEMENT</td>\n",
       "      <td>['Pivotal Self Service Tech, Inc.', '(the \"Par...</td>\n",
       "      <td>Collectible Concepts Group, Inc. (\"CCGI\"); Piv...</td>\n",
       "      <td>[]</td>\n",
       "      <td>NaN</td>\n",
       "      <td>['The Joint Venture shall commence on the 1st ...</td>\n",
       "      <td>03/01/2003</td>\n",
       "      <td>['The Joint Venture shall commence on the 1st ...</td>\n",
       "      <td>2/28/04</td>\n",
       "      <td>[]</td>\n",
       "      <td>NaN</td>\n",
       "      <td>[]</td>\n",
       "      <td>NaN</td>\n",
       "      <td>['The Joint Venturers declare that in entering...</td>\n",
       "      <td>Pennsylvania</td>\n",
       "      <td>[]</td>\n",
       "      <td>No</td>\n",
       "      <td>[]</td>\n",
       "      <td>No</td>\n",
       "      <td>[]</td>\n",
       "      <td>No</td>\n",
       "      <td>[]</td>\n",
       "      <td>No</td>\n",
       "      <td>[]</td>\n",
       "      <td>No</td>\n",
       "      <td>[]</td>\n",
       "      <td>No</td>\n",
       "      <td>[]</td>\n",
       "      <td>No</td>\n",
       "      <td>[]</td>\n",
       "      <td>No</td>\n",
       "      <td>[]</td>\n",
       "      <td>No</td>\n",
       "      <td>[]</td>\n",
       "      <td>No</td>\n",
       "      <td>['No Joint      Venturer shall be authorized o...</td>\n",
       "      <td>Yes</td>\n",
       "      <td>['Division of Income and Losses. All income an...</td>\n",
       "      <td>...</td>\n",
       "      <td>[]</td>\n",
       "      <td>No</td>\n",
       "      <td>[]</td>\n",
       "      <td>No</td>\n",
       "      <td>[]</td>\n",
       "      <td>No</td>\n",
       "      <td>[]</td>\n",
       "      <td>No</td>\n",
       "      <td>[]</td>\n",
       "      <td>No</td>\n",
       "      <td>[]</td>\n",
       "      <td>No</td>\n",
       "      <td>[]</td>\n",
       "      <td>No</td>\n",
       "      <td>[]</td>\n",
       "      <td>No</td>\n",
       "      <td>[]</td>\n",
       "      <td>No</td>\n",
       "      <td>[]</td>\n",
       "      <td>No</td>\n",
       "      <td>[]</td>\n",
       "      <td>No</td>\n",
       "      <td>[]</td>\n",
       "      <td>No</td>\n",
       "      <td>['All books and records of every kind and char...</td>\n",
       "      <td>Yes</td>\n",
       "      <td>[]</td>\n",
       "      <td>No</td>\n",
       "      <td>[]</td>\n",
       "      <td>No</td>\n",
       "      <td>[]</td>\n",
       "      <td>No</td>\n",
       "      <td>[]</td>\n",
       "      <td>No</td>\n",
       "      <td>[]</td>\n",
       "      <td>No</td>\n",
       "      <td>[]</td>\n",
       "      <td>No</td>\n",
       "      <td>[]</td>\n",
       "      <td>No</td>\n",
       "    </tr>\n",
       "    <tr>\n",
       "      <th>3</th>\n",
       "      <td>ACCURAYINC_09_01_2010-EX-10.31-DISTRIBUTOR AGR...</td>\n",
       "      <td>['Multiple LINAC and Multi-Modality Distributo...</td>\n",
       "      <td>Multiple LINAC and Multi-Modality Distributor ...</td>\n",
       "      <td>['Siemens', 'Accuray', 'ACCURAY INCORPORATED',...</td>\n",
       "      <td>ACCURAY INCORPORATED, (\"Accuray\"); SIEMENS AKT...</td>\n",
       "      <td>['June 8, 2010']</td>\n",
       "      <td>06/08/2010</td>\n",
       "      <td>['June 8, 2010']</td>\n",
       "      <td>06/08/2010</td>\n",
       "      <td>['Unless otherwise agreed in writing by Accura...</td>\n",
       "      <td>perpetual</td>\n",
       "      <td>[]</td>\n",
       "      <td>NaN</td>\n",
       "      <td>[]</td>\n",
       "      <td>NaN</td>\n",
       "      <td>['This Agreement shall be governed by, and con...</td>\n",
       "      <td>Germany</td>\n",
       "      <td>[]</td>\n",
       "      <td>No</td>\n",
       "      <td>[]</td>\n",
       "      <td>No</td>\n",
       "      <td>[]</td>\n",
       "      <td>No</td>\n",
       "      <td>[]</td>\n",
       "      <td>No</td>\n",
       "      <td>[]</td>\n",
       "      <td>No</td>\n",
       "      <td>[]</td>\n",
       "      <td>No</td>\n",
       "      <td>[]</td>\n",
       "      <td>No</td>\n",
       "      <td>[]</td>\n",
       "      <td>No</td>\n",
       "      <td>[]</td>\n",
       "      <td>No</td>\n",
       "      <td>[]</td>\n",
       "      <td>No</td>\n",
       "      <td>['Neither this Agreement, nor any of the right...</td>\n",
       "      <td>Yes</td>\n",
       "      <td>[]</td>\n",
       "      <td>...</td>\n",
       "      <td>[]</td>\n",
       "      <td>No</td>\n",
       "      <td>[]</td>\n",
       "      <td>No</td>\n",
       "      <td>[]</td>\n",
       "      <td>No</td>\n",
       "      <td>[]</td>\n",
       "      <td>No</td>\n",
       "      <td>['Accuray  hereby grants Distributor or Custom...</td>\n",
       "      <td>Yes</td>\n",
       "      <td>['Accuray  hereby grants Distributor or Custom...</td>\n",
       "      <td>Yes</td>\n",
       "      <td>[]</td>\n",
       "      <td>No</td>\n",
       "      <td>[]</td>\n",
       "      <td>No</td>\n",
       "      <td>[]</td>\n",
       "      <td>No</td>\n",
       "      <td>[]</td>\n",
       "      <td>No</td>\n",
       "      <td>[]</td>\n",
       "      <td>No</td>\n",
       "      <td>['Furthermore, each of the parties agree to co...</td>\n",
       "      <td>Yes</td>\n",
       "      <td>[]</td>\n",
       "      <td>No</td>\n",
       "      <td>['WITHOUT AFFECTING STRICT PRODUCT LIABILITY U...</td>\n",
       "      <td>Yes</td>\n",
       "      <td>[\"This will be Accuray's sole and exclusive ob...</td>\n",
       "      <td>Yes</td>\n",
       "      <td>[]</td>\n",
       "      <td>No</td>\n",
       "      <td>['Accuray will provide a warranty to each Cust...</td>\n",
       "      <td>Yes</td>\n",
       "      <td>[]</td>\n",
       "      <td>No</td>\n",
       "      <td>[]</td>\n",
       "      <td>No</td>\n",
       "      <td>[]</td>\n",
       "      <td>No</td>\n",
       "    </tr>\n",
       "    <tr>\n",
       "      <th>4</th>\n",
       "      <td>ADAMSGOLFINC_03_21_2005-EX-10.17-ENDORSEMENT A...</td>\n",
       "      <td>['ENDORSEMENT AGREEMENT']</td>\n",
       "      <td>ENDORSEMENT AGREEMENT</td>\n",
       "      <td>['ADAMS GOLF, LTD.', 'TOM WATSON', 'ADAMS GOLF...</td>\n",
       "      <td>TOM WATSON (\"CONSULTANT\"); ADAMS GOLF, LTD. (\"...</td>\n",
       "      <td>['January 13, 2005']</td>\n",
       "      <td>1/13/05</td>\n",
       "      <td>['The Term of this Agreement shall be for a pe...</td>\n",
       "      <td>09/01/2004</td>\n",
       "      <td>['The Term of this Agreement shall be for a pe...</td>\n",
       "      <td>[]/[]/[]</td>\n",
       "      <td>[]</td>\n",
       "      <td>NaN</td>\n",
       "      <td>[]</td>\n",
       "      <td>NaN</td>\n",
       "      <td>['This Agreement shall be governed and constru...</td>\n",
       "      <td>Kansas</td>\n",
       "      <td>[]</td>\n",
       "      <td>No</td>\n",
       "      <td>[\"The parties expressly  agree that CONSULTANT...</td>\n",
       "      <td>Yes</td>\n",
       "      <td>[\"When endorsing a non-competitive product, un...</td>\n",
       "      <td>Yes</td>\n",
       "      <td>[\"CONSULTANT hereby gives and grants to ADAMS ...</td>\n",
       "      <td>Yes</td>\n",
       "      <td>[]</td>\n",
       "      <td>No</td>\n",
       "      <td>[]</td>\n",
       "      <td>No</td>\n",
       "      <td>[]</td>\n",
       "      <td>No</td>\n",
       "      <td>[]</td>\n",
       "      <td>No</td>\n",
       "      <td>[]</td>\n",
       "      <td>No</td>\n",
       "      <td>[]</td>\n",
       "      <td>No</td>\n",
       "      <td>['Neither ADAMS GOLF nor CONSULTANT shall have...</td>\n",
       "      <td>Yes</td>\n",
       "      <td>[]</td>\n",
       "      <td>...</td>\n",
       "      <td>['In each and every calendar year of this Agre...</td>\n",
       "      <td>Yes</td>\n",
       "      <td>[\"During  the term of this Agreement, CONSULTA...</td>\n",
       "      <td>Yes</td>\n",
       "      <td>[]</td>\n",
       "      <td>No</td>\n",
       "      <td>[]</td>\n",
       "      <td>No</td>\n",
       "      <td>[\"CONSULTANT hereby gives and grants to ADAMS ...</td>\n",
       "      <td>Yes</td>\n",
       "      <td>[]</td>\n",
       "      <td>No</td>\n",
       "      <td>[]</td>\n",
       "      <td>No</td>\n",
       "      <td>[]</td>\n",
       "      <td>No</td>\n",
       "      <td>[]</td>\n",
       "      <td>No</td>\n",
       "      <td>[]</td>\n",
       "      <td>No</td>\n",
       "      <td>[]</td>\n",
       "      <td>No</td>\n",
       "      <td>[]</td>\n",
       "      <td>No</td>\n",
       "      <td>[]</td>\n",
       "      <td>No</td>\n",
       "      <td>[]</td>\n",
       "      <td>No</td>\n",
       "      <td>[]</td>\n",
       "      <td>No</td>\n",
       "      <td>[]</td>\n",
       "      <td>No</td>\n",
       "      <td>[]</td>\n",
       "      <td>No</td>\n",
       "      <td>[]</td>\n",
       "      <td>No</td>\n",
       "      <td>[]</td>\n",
       "      <td>No</td>\n",
       "      <td>[]</td>\n",
       "      <td>No</td>\n",
       "    </tr>\n",
       "  </tbody>\n",
       "</table>\n",
       "<p>5 rows × 83 columns</p>\n",
       "</div>\n",
       "      <button class=\"colab-df-convert\" onclick=\"convertToInteractive('df-12bb6a8b-c3f6-417b-a369-f6dc3df88d6d')\"\n",
       "              title=\"Convert this dataframe to an interactive table.\"\n",
       "              style=\"display:none;\">\n",
       "        \n",
       "  <svg xmlns=\"http://www.w3.org/2000/svg\" height=\"24px\"viewBox=\"0 0 24 24\"\n",
       "       width=\"24px\">\n",
       "    <path d=\"M0 0h24v24H0V0z\" fill=\"none\"/>\n",
       "    <path d=\"M18.56 5.44l.94 2.06.94-2.06 2.06-.94-2.06-.94-.94-2.06-.94 2.06-2.06.94zm-11 1L8.5 8.5l.94-2.06 2.06-.94-2.06-.94L8.5 2.5l-.94 2.06-2.06.94zm10 10l.94 2.06.94-2.06 2.06-.94-2.06-.94-.94-2.06-.94 2.06-2.06.94z\"/><path d=\"M17.41 7.96l-1.37-1.37c-.4-.4-.92-.59-1.43-.59-.52 0-1.04.2-1.43.59L10.3 9.45l-7.72 7.72c-.78.78-.78 2.05 0 2.83L4 21.41c.39.39.9.59 1.41.59.51 0 1.02-.2 1.41-.59l7.78-7.78 2.81-2.81c.8-.78.8-2.07 0-2.86zM5.41 20L4 18.59l7.72-7.72 1.47 1.35L5.41 20z\"/>\n",
       "  </svg>\n",
       "      </button>\n",
       "      \n",
       "  <style>\n",
       "    .colab-df-container {\n",
       "      display:flex;\n",
       "      flex-wrap:wrap;\n",
       "      gap: 12px;\n",
       "    }\n",
       "\n",
       "    .colab-df-convert {\n",
       "      background-color: #E8F0FE;\n",
       "      border: none;\n",
       "      border-radius: 50%;\n",
       "      cursor: pointer;\n",
       "      display: none;\n",
       "      fill: #1967D2;\n",
       "      height: 32px;\n",
       "      padding: 0 0 0 0;\n",
       "      width: 32px;\n",
       "    }\n",
       "\n",
       "    .colab-df-convert:hover {\n",
       "      background-color: #E2EBFA;\n",
       "      box-shadow: 0px 1px 2px rgba(60, 64, 67, 0.3), 0px 1px 3px 1px rgba(60, 64, 67, 0.15);\n",
       "      fill: #174EA6;\n",
       "    }\n",
       "\n",
       "    [theme=dark] .colab-df-convert {\n",
       "      background-color: #3B4455;\n",
       "      fill: #D2E3FC;\n",
       "    }\n",
       "\n",
       "    [theme=dark] .colab-df-convert:hover {\n",
       "      background-color: #434B5C;\n",
       "      box-shadow: 0px 1px 3px 1px rgba(0, 0, 0, 0.15);\n",
       "      filter: drop-shadow(0px 1px 2px rgba(0, 0, 0, 0.3));\n",
       "      fill: #FFFFFF;\n",
       "    }\n",
       "  </style>\n",
       "\n",
       "      <script>\n",
       "        const buttonEl =\n",
       "          document.querySelector('#df-12bb6a8b-c3f6-417b-a369-f6dc3df88d6d button.colab-df-convert');\n",
       "        buttonEl.style.display =\n",
       "          google.colab.kernel.accessAllowed ? 'block' : 'none';\n",
       "\n",
       "        async function convertToInteractive(key) {\n",
       "          const element = document.querySelector('#df-12bb6a8b-c3f6-417b-a369-f6dc3df88d6d');\n",
       "          const dataTable =\n",
       "            await google.colab.kernel.invokeFunction('convertToInteractive',\n",
       "                                                     [key], {});\n",
       "          if (!dataTable) return;\n",
       "\n",
       "          const docLinkHtml = 'Like what you see? Visit the ' +\n",
       "            '<a target=\"_blank\" href=https://colab.research.google.com/notebooks/data_table.ipynb>data table notebook</a>'\n",
       "            + ' to learn more about interactive tables.';\n",
       "          element.innerHTML = '';\n",
       "          dataTable['output_type'] = 'display_data';\n",
       "          await google.colab.output.renderOutput(dataTable, element);\n",
       "          const docLink = document.createElement('div');\n",
       "          docLink.innerHTML = docLinkHtml;\n",
       "          element.appendChild(docLink);\n",
       "        }\n",
       "      </script>\n",
       "    </div>\n",
       "  </div>\n",
       "  "
      ],
      "text/plain": [
       "                                            Filename  ... Third Party Beneficiary-Answer\n",
       "0  2ThemartComInc_19990826_10-12G_EX-10.10_670028...  ...                             No\n",
       "1  ABILITYINC_06_15_2020-EX-4.25-SERVICES AGREEME...  ...                             No\n",
       "2  ACCELERATEDTECHNOLOGIESHOLDINGCORP_04_24_2003-...  ...                             No\n",
       "3  ACCURAYINC_09_01_2010-EX-10.31-DISTRIBUTOR AGR...  ...                             No\n",
       "4  ADAMSGOLFINC_03_21_2005-EX-10.17-ENDORSEMENT A...  ...                             No\n",
       "\n",
       "[5 rows x 83 columns]"
      ]
     },
     "execution_count": 91,
     "metadata": {},
     "output_type": "execute_result"
    }
   ],
   "source": [
    "import pandas as pd\n",
    "df_csv=pd.read_csv(\"/content/drive/MyDrive/workingWithP/master_clauses_1.csv\")\n",
    "df_csv.head()"
   ]
  },
  {
   "cell_type": "code",
   "execution_count": 92,
   "metadata": {
    "id": "crAd9736rW9q"
   },
   "outputs": [],
   "source": [
    "#filtering requried information from extracted data that is text content and label\n",
    "df = df_csv.filter(['Governing Law','Governing Law-Answer'], axis = 1)\n",
    "df['label'] = df_csv['Governing Law-Answer']\n",
    "df['text'] = df_csv['Governing Law']"
   ]
  },
  {
   "cell_type": "markdown",
   "metadata": {
    "id": "_VpCbuXTns4_"
   },
   "source": [
    "**Text Pre-Processing**"
   ]
  },
  {
   "cell_type": "code",
   "execution_count": 93,
   "metadata": {
    "id": "-c3peNZ1jKF_"
   },
   "outputs": [],
   "source": [
    "#Importing Libraries\n",
    "from bs4 import BeautifulSoup\n",
    "import nltk"
   ]
  },
  {
   "cell_type": "code",
   "execution_count": 94,
   "metadata": {
    "id": "117RCTnxsOd-"
   },
   "outputs": [],
   "source": [
    "#general text processing \n",
    "# removing punctation and white spaces \n",
    "#setting the text to lower case\n",
    "def text_preprocess(text):\n",
    "  text=text.lower()\n",
    "  text=re.compile('[/(){}\\[\\]\\|@,;]').sub(' ', text)\n",
    "  return text"
   ]
  },
  {
   "cell_type": "code",
   "execution_count": 95,
   "metadata": {
    "colab": {
     "base_uri": "https://localhost:8080/"
    },
    "id": "tetwjRDwyI3W",
    "outputId": "f7aa9f57-5f24-4a3d-bba8-6b53debd4f47"
   },
   "outputs": [
    {
     "data": {
      "text/plain": [
       "0     'this agreement will be governed and construe...\n",
       "1     'this agreement and any claim  controversy or...\n",
       "2     'the joint venturers declare that in entering...\n",
       "3     'this agreement shall be governed by  and con...\n",
       "4     'this agreement shall be governed and constru...\n",
       "Name: text, dtype: object"
      ]
     },
     "execution_count": 95,
     "metadata": {},
     "output_type": "execute_result"
    }
   ],
   "source": [
    "df['text']=df['text'].apply(text_preprocess)\n",
    "df['text'].head()"
   ]
  },
  {
   "cell_type": "markdown",
   "metadata": {
    "id": "sodDgxFYgvmC"
   },
   "source": [
    "*punctuation removal*"
   ]
  },
  {
   "cell_type": "code",
   "execution_count": 96,
   "metadata": {
    "colab": {
     "base_uri": "https://localhost:8080/",
     "height": 35
    },
    "id": "TagVlHH1ajZh",
    "outputId": "2eda7a9c-54ae-452f-b713-60fd43501caf"
   },
   "outputs": [
    {
     "data": {
      "application/vnd.google.colaboratory.intrinsic+json": {
       "type": "string"
      },
      "text/plain": [
       "'!\"#$%&\\'()*+,-./:;<=>?@[\\\\]^_`{|}~'"
      ]
     },
     "execution_count": 96,
     "metadata": {},
     "output_type": "execute_result"
    }
   ],
   "source": [
    "# importing library that has punctuation\n",
    "import string\n",
    "string.punctuation"
   ]
  },
  {
   "cell_type": "code",
   "execution_count": 97,
   "metadata": {
    "id": "oUPNbzXIhbQI"
   },
   "outputs": [],
   "source": [
    "#defining a function to remove punctuation \n",
    "def remove_all_punctuation(text):\n",
    "  punctuation_remove= \"\".join([i for i in text if i not in string.punctuation])\n",
    "  return punctuation_remove\n"
   ]
  },
  {
   "cell_type": "code",
   "execution_count": 98,
   "metadata": {
    "colab": {
     "base_uri": "https://localhost:8080/"
    },
    "id": "YdUtPTwwiFLO",
    "outputId": "db28a0b4-f4df-48c5-915c-e267f46b78c0"
   },
   "outputs": [
    {
     "data": {
      "text/plain": [
       "0       this agreement will be governed and construed...\n",
       "1       this agreement and any claim  controversy or ...\n",
       "2       the joint venturers declare that in entering ...\n",
       "3       this agreement shall be governed by  and cons...\n",
       "4       this agreement shall be governed and construe...\n",
       "                             ...                        \n",
       "505     the laws of the state of delaware  without re...\n",
       "506     this agreement and all questions regarding it...\n",
       "507                                                     \n",
       "508     the parties agree that this agreement shall b...\n",
       "509                                                     \n",
       "Name: text, Length: 510, dtype: object"
      ]
     },
     "execution_count": 98,
     "metadata": {},
     "output_type": "execute_result"
    }
   ],
   "source": [
    "#calling punctuation_remove function to clean the data \n",
    "df['text'] = df['text'].apply(lambda x:remove_all_punctuation(x))\n",
    "df['text']"
   ]
  },
  {
   "cell_type": "code",
   "execution_count": 99,
   "metadata": {
    "id": "IMjbQ6FttFHj"
   },
   "outputs": [],
   "source": [
    "#space removel\n",
    "df['text'] = df['text'].str.replace('\\d+', '')"
   ]
  },
  {
   "cell_type": "markdown",
   "metadata": {
    "id": "stX1w77_jLnR"
   },
   "source": [
    "*lowering the text*"
   ]
  },
  {
   "cell_type": "code",
   "execution_count": 100,
   "metadata": {
    "id": "L-_ehscCiyqn"
   },
   "outputs": [],
   "source": [
    "#setting the text to lower case\n",
    "df['text'] = df['text'].apply(lambda x: x.lower())"
   ]
  },
  {
   "cell_type": "markdown",
   "metadata": {
    "id": "ldte8zsuEoxK"
   },
   "source": [
    "*HTML removing*"
   ]
  },
  {
   "cell_type": "code",
   "execution_count": 101,
   "metadata": {
    "id": "18bGjGcFEoOm"
   },
   "outputs": [],
   "source": [
    "#importing package from lib\n",
    "from bs4 import BeautifulSoup "
   ]
  },
  {
   "cell_type": "code",
   "execution_count": 102,
   "metadata": {
    "id": "96lP_9KjFDPE"
   },
   "outputs": [],
   "source": [
    "#appling beautiful soup on the text \n",
    "df['text'] = [BeautifulSoup(str(text)).get_text() for text in df['text'].tolist()]"
   ]
  },
  {
   "cell_type": "markdown",
   "metadata": {
    "id": "XKhmJNRdFFB-"
   },
   "source": [
    "*unicode removal*"
   ]
  },
  {
   "cell_type": "code",
   "execution_count": 103,
   "metadata": {
    "id": "BdB5kg7RE0yK"
   },
   "outputs": [],
   "source": [
    "#imorting library \n",
    "import unicodedata"
   ]
  },
  {
   "cell_type": "code",
   "execution_count": 104,
   "metadata": {
    "id": "6wlhvyqzFKUl"
   },
   "outputs": [],
   "source": [
    "#appling unicode on the text data\n",
    "df['text'] = [unicodedata.normalize('NFKD', str(text)).encode('ascii', 'ignore').decode('utf-8', 'ignore') for text in df['text'].tolist()]"
   ]
  },
  {
   "cell_type": "markdown",
   "metadata": {
    "id": "LCQKop0eIpSq"
   },
   "source": [
    "contractions removing"
   ]
  },
  {
   "cell_type": "code",
   "execution_count": 105,
   "metadata": {
    "colab": {
     "base_uri": "https://localhost:8080/"
    },
    "id": "y2I3Cl0VJWc4",
    "outputId": "67e91e97-7382-4e18-95eb-2bb3c38d9b8e"
   },
   "outputs": [
    {
     "name": "stdout",
     "output_type": "stream",
     "text": [
      "Requirement already satisfied: contractions in /usr/local/lib/python3.7/dist-packages (0.0.58)\n",
      "Requirement already satisfied: textsearch>=0.0.21 in /usr/local/lib/python3.7/dist-packages (from contractions) (0.0.21)\n",
      "Requirement already satisfied: pyahocorasick in /usr/local/lib/python3.7/dist-packages (from textsearch>=0.0.21->contractions) (1.4.2)\n",
      "Requirement already satisfied: anyascii in /usr/local/lib/python3.7/dist-packages (from textsearch>=0.0.21->contractions) (0.3.0)\n"
     ]
    }
   ],
   "source": [
    "#installing contraction library\n",
    "!pip install contractions"
   ]
  },
  {
   "cell_type": "code",
   "execution_count": 106,
   "metadata": {
    "id": "V6zzELGzIwF2"
   },
   "outputs": [],
   "source": [
    "#importing library\n",
    "import contractions\n",
    "from contractions import contractions_dict"
   ]
  },
  {
   "cell_type": "code",
   "execution_count": 107,
   "metadata": {
    "id": "D-V-zvJIIv32"
   },
   "outputs": [],
   "source": [
    "#appling the contactions list on the text data to remove all contractions\n",
    "for contraction, expansion in contractions_dict.items():\n",
    "  df['text'] = df['text'].str.replace(contraction, expansion)"
   ]
  },
  {
   "cell_type": "markdown",
   "metadata": {
    "id": "1ozjlZTxjqwE"
   },
   "source": [
    "*tokenization*"
   ]
  },
  {
   "cell_type": "code",
   "execution_count": 108,
   "metadata": {
    "colab": {
     "base_uri": "https://localhost:8080/"
    },
    "id": "yIgWeMMgjhhn",
    "outputId": "ef0322ff-6a10-45da-f867-7d37b4a4802c"
   },
   "outputs": [
    {
     "name": "stdout",
     "output_type": "stream",
     "text": [
      "[nltk_data] Downloading package punkt to /root/nltk_data...\n",
      "[nltk_data]   Package punkt is already up-to-date!\n"
     ]
    },
    {
     "data": {
      "text/plain": [
       "True"
      ]
     },
     "execution_count": 108,
     "metadata": {},
     "output_type": "execute_result"
    }
   ],
   "source": [
    "#importing library for tokenization\n",
    "import re\n",
    "from nltk.tokenize import word_tokenize\n",
    "nltk.download('punkt')"
   ]
  },
  {
   "cell_type": "code",
   "execution_count": 109,
   "metadata": {
    "id": "3Y2eX3nFj967"
   },
   "outputs": [],
   "source": [
    "#defining function for tokenization\n",
    "def tokenization(text):\n",
    "  tokens = word_tokenize(text)\n",
    "  return tokens"
   ]
  },
  {
   "cell_type": "code",
   "execution_count": 110,
   "metadata": {
    "colab": {
     "base_uri": "https://localhost:8080/"
    },
    "id": "b3rSkj3VkQN7",
    "outputId": "b8cb34d1-2207-4deb-fbec-e8c1533d3660"
   },
   "outputs": [
    {
     "data": {
      "text/plain": [
       "0      [this, agrethement, will, be, governed, and, c...\n",
       "1      [this, agrethement, and, any, claim, controver...\n",
       "2      [the, joint, venturers, decemberare, that, in,...\n",
       "3      [this, agrethement, shall, be, governed, by, a...\n",
       "4      [this, agrethement, shall, be, governed, and, ...\n",
       "                             ...                        \n",
       "505    [the, laws, of, the, state, of, delaware, with...\n",
       "506    [this, agrethement, and, all, questions, regar...\n",
       "507                                                   []\n",
       "508    [the, parties, agree, that, this, agrethement,...\n",
       "509                                                   []\n",
       "Name: text, Length: 510, dtype: object"
      ]
     },
     "execution_count": 110,
     "metadata": {},
     "output_type": "execute_result"
    }
   ],
   "source": [
    "#calling tokenization function \n",
    "df['text'] = df['text'].apply(str)\n",
    "df['text'] = df['text'].apply(lambda x: tokenization(x))\n",
    "df['text']"
   ]
  },
  {
   "cell_type": "markdown",
   "metadata": {
    "id": "QcPduTDblFHK"
   },
   "source": [
    "*stop word removal*"
   ]
  },
  {
   "cell_type": "code",
   "execution_count": 111,
   "metadata": {
    "colab": {
     "base_uri": "https://localhost:8080/"
    },
    "id": "AedO4GX5kq7I",
    "outputId": "6e496108-53ef-4dd4-d8d8-5eba5e370349"
   },
   "outputs": [
    {
     "name": "stdout",
     "output_type": "stream",
     "text": [
      "[nltk_data] Downloading package stopwords to /root/nltk_data...\n",
      "[nltk_data]   Package stopwords is already up-to-date!\n"
     ]
    },
    {
     "data": {
      "text/plain": [
       "['i',\n",
       " 'me',\n",
       " 'my',\n",
       " 'myself',\n",
       " 'we',\n",
       " 'our',\n",
       " 'ours',\n",
       " 'ourselves',\n",
       " 'you',\n",
       " \"you're\",\n",
       " \"you've\",\n",
       " \"you'll\",\n",
       " \"you'd\",\n",
       " 'your',\n",
       " 'yours',\n",
       " 'yourself',\n",
       " 'yourselves',\n",
       " 'he',\n",
       " 'him',\n",
       " 'his']"
      ]
     },
     "execution_count": 111,
     "metadata": {},
     "output_type": "execute_result"
    }
   ],
   "source": [
    "# nltk lib has already imported \n",
    "#stop words in given library\n",
    "nltk.download('stopwords')\n",
    "stopwords = nltk.corpus.stopwords.words('english')\n",
    "stopwords[0:20]"
   ]
  },
  {
   "cell_type": "code",
   "execution_count": 112,
   "metadata": {
    "id": "OaxCbPrelptL"
   },
   "outputs": [],
   "source": [
    "#defining function for stop words\n",
    "def remove_stopwords(text):\n",
    "  output = [i for i in text if i not in stopwords]\n",
    "  return output"
   ]
  },
  {
   "cell_type": "code",
   "execution_count": 113,
   "metadata": {
    "colab": {
     "base_uri": "https://localhost:8080/"
    },
    "id": "IW8--YhWV7N0",
    "outputId": "a03d046a-d7d3-4c74-9f3e-792fac54ea98"
   },
   "outputs": [
    {
     "data": {
      "text/plain": [
       "0      [agrethement, governed, construed, accordance,...\n",
       "1      [agrethement, claim, controversy, dispute, ari...\n",
       "2      [joint, venturers, decemberare, entering, agre...\n",
       "3      [agrethement, shall, governed, construed, acco...\n",
       "4      [agrethement, shall, governed, construed, acco...\n",
       "                             ...                        \n",
       "505    [laws, state, delaware, without, reference, pr...\n",
       "506    [agrethement, questions, regarding, existence,...\n",
       "507                                                   []\n",
       "508    [parties, agree, agrethement, shall, governed,...\n",
       "509                                                   []\n",
       "Name: text, Length: 510, dtype: object"
      ]
     },
     "execution_count": 113,
     "metadata": {},
     "output_type": "execute_result"
    }
   ],
   "source": [
    "#appling the stopwords function to the text content\n",
    "df['text'] = df['text'].apply(lambda x:remove_stopwords(x))\n",
    "df['text']"
   ]
  },
  {
   "cell_type": "markdown",
   "metadata": {
    "id": "BW-yrXhpmt8T"
   },
   "source": [
    "*lemmatization*"
   ]
  },
  {
   "cell_type": "code",
   "execution_count": 114,
   "metadata": {
    "colab": {
     "base_uri": "https://localhost:8080/"
    },
    "id": "3oqwVjaLmgzX",
    "outputId": "fbd98fca-e677-4316-cc06-51a6ba7c5fb0"
   },
   "outputs": [
    {
     "name": "stdout",
     "output_type": "stream",
     "text": [
      "[nltk_data] Downloading package wordnet to /root/nltk_data...\n",
      "[nltk_data]   Package wordnet is already up-to-date!\n"
     ]
    },
    {
     "data": {
      "text/plain": [
       "True"
      ]
     },
     "execution_count": 114,
     "metadata": {},
     "output_type": "execute_result"
    }
   ],
   "source": [
    "#importing lemmatization from lib\n",
    "from nltk.stem import WordNetLemmatizer\n",
    "nltk.download('wordnet')"
   ]
  },
  {
   "cell_type": "code",
   "execution_count": 115,
   "metadata": {
    "id": "ey9UZyjmns1w"
   },
   "outputs": [],
   "source": [
    "#defining functioon as object\n",
    "wordnet_lemmatizer = WordNetLemmatizer()"
   ]
  },
  {
   "cell_type": "code",
   "execution_count": 116,
   "metadata": {
    "id": "uTD1WdMTn52s"
   },
   "outputs": [],
   "source": [
    "#defining the lemmatization function\n",
    "def lemmatizer(text):\n",
    "  lemm_text = [wordnet_lemmatizer.lemmatize(word) for word in text]\n",
    "  return lemm_text"
   ]
  },
  {
   "cell_type": "code",
   "execution_count": 117,
   "metadata": {
    "id": "Zm88H-ncofop"
   },
   "outputs": [],
   "source": [
    "#appling lemmization function to text content\n",
    "df['text'] = df['text'].apply(lambda x: lemmatizer(x))"
   ]
  },
  {
   "cell_type": "markdown",
   "metadata": {
    "id": "rUvvc5rMKZCN"
   },
   "source": [
    "*null values removing*"
   ]
  },
  {
   "cell_type": "code",
   "execution_count": 118,
   "metadata": {
    "id": "tGn69ekQpGLy"
   },
   "outputs": [],
   "source": [
    "# removing white spaces or null values from the text content \n",
    "df = df[~(df.text.str.strip() == '')]\n",
    "df = df.dropna().reset_index(drop=True)"
   ]
  },
  {
   "cell_type": "markdown",
   "metadata": {
    "id": "klmvNbIqcrgS"
   },
   "source": [
    "# **splitting data**"
   ]
  },
  {
   "cell_type": "markdown",
   "metadata": {
    "id": "e-iNnzFRffOa"
   },
   "source": [
    "splitting corpus into two parts for testing and training the model.\n",
    "training - 80% \n",
    "test - 20 % \n",
    "so the corpus has to spilt in the ratio of 80:20.\n"
   ]
  },
  {
   "cell_type": "code",
   "execution_count": 119,
   "metadata": {
    "id": "V1TNmcWYWzuH"
   },
   "outputs": [],
   "source": [
    "from sklearn.model_selection import train_test_split"
   ]
  },
  {
   "cell_type": "code",
   "execution_count": 120,
   "metadata": {
    "colab": {
     "base_uri": "https://localhost:8080/"
    },
    "id": "1okE2k8GWz5Q",
    "outputId": "a3ea19bd-eb4b-4cea-d2c2-6fee03a82f0a"
   },
   "outputs": [
    {
     "data": {
      "text/plain": [
       "((347,), (87,))"
      ]
     },
     "execution_count": 120,
     "metadata": {},
     "output_type": "execute_result"
    }
   ],
   "source": [
    "#dividing up labels and data for testing as well as training\n",
    "train_corpus_set, test_corpus_set, train_label_names_set, test_label_names_set = train_test_split(np.array(df['text'].apply(lambda x:np.str_(x))),\n",
    "np.array(df['label']), \n",
    "test_size=0.20, \n",
    "random_state=42)\n",
    "\n",
    "train_corpus_set.shape, test_corpus_set.shape"
   ]
  },
  {
   "cell_type": "markdown",
   "metadata": {
    "id": "_c7F0dO7pmNL"
   },
   "source": []
  },
  {
   "cell_type": "markdown",
   "metadata": {
    "id": "0J9NMTMQAhV0"
   },
   "source": [
    "# **TF-IDF and classification models**"
   ]
  },
  {
   "cell_type": "markdown",
   "metadata": {
    "id": "lWEplJ7XZalN"
   },
   "source": [
    "## **features extraction**"
   ]
  },
  {
   "cell_type": "markdown",
   "metadata": {
    "id": "bl6uWaxEacey"
   },
   "source": [
    "## *TF-IDF* "
   ]
  },
  {
   "cell_type": "code",
   "execution_count": 121,
   "metadata": {
    "id": "VdqUwwD4ZZgA"
   },
   "outputs": [],
   "source": [
    "#importing tfidf package from skleran\n",
    "from sklearn.feature_extraction.text import TfidfVectorizer"
   ]
  },
  {
   "cell_type": "code",
   "execution_count": 122,
   "metadata": {
    "id": "UiLwZNI8K8lO"
   },
   "outputs": [],
   "source": [
    "#normilization of TF-IDF algorithm\n",
    "tfidf_tv = TfidfVectorizer(use_idf=True, min_df=0.0, max_df=1.0)"
   ]
  },
  {
   "cell_type": "code",
   "execution_count": 123,
   "metadata": {
    "id": "89tIzV9vW9Y9"
   },
   "outputs": [],
   "source": [
    "#appling the TF-IDF algorithm to extract features\n",
    "tfidf_tv_train_features = tfidf_tv.fit_transform(train_corpus_set)\n",
    "tfidf_tv_test_features = tfidf_tv.transform(test_corpus_set)"
   ]
  },
  {
   "cell_type": "code",
   "execution_count": 124,
   "metadata": {
    "colab": {
     "base_uri": "https://localhost:8080/"
    },
    "id": "OAKtZYoO7KwY",
    "outputId": "cdf99ddd-af91-4f55-82c6-639c7265229c"
   },
   "outputs": [
    {
     "name": "stdout",
     "output_type": "stream",
     "text": [
      "TFIDF model:\n",
      " Train features shape: (347, 574) \n",
      "  Test features shape: (87, 574)\n"
     ]
    }
   ],
   "source": [
    "print('TFIDF model:\\n','Train features shape:', tfidf_tv_train_features.shape,'\\n', ' Test features shape:', tfidf_tv_test_features.shape)"
   ]
  },
  {
   "cell_type": "markdown",
   "metadata": {
    "id": "B05Gb4fNjkKP"
   },
   "source": [
    "## **classification model and  evaluation**"
   ]
  },
  {
   "cell_type": "markdown",
   "metadata": {
    "id": "o-2prQ3IMYcs"
   },
   "source": [
    "## *SVM*"
   ]
  },
  {
   "cell_type": "code",
   "execution_count": 125,
   "metadata": {
    "id": "tUhkSwwuXCdx"
   },
   "outputs": [],
   "source": [
    "# importing SVM algorithm from sklearn library\n",
    "from sklearn.svm import LinearSVC"
   ]
  },
  {
   "cell_type": "code",
   "execution_count": 126,
   "metadata": {
    "colab": {
     "base_uri": "https://localhost:8080/"
    },
    "id": "tDJNNqc57cBk",
    "outputId": "3cb0fca6-2b69-4e09-bdb5-078b4b05ad4f"
   },
   "outputs": [
    {
     "data": {
      "text/plain": [
       "LinearSVC(C=1, random_state=42)"
      ]
     },
     "execution_count": 126,
     "metadata": {},
     "output_type": "execute_result"
    }
   ],
   "source": [
    "#applying the SVM algorithm on training data to train the model\n",
    "svm_model = LinearSVC(penalty='l2', C=1, random_state=42)\n",
    "svm_model.fit(tfidf_tv_train_features, train_label_names_set)"
   ]
  },
  {
   "cell_type": "code",
   "execution_count": 127,
   "metadata": {
    "colab": {
     "base_uri": "https://localhost:8080/"
    },
    "id": "PDadPkkLNFB5",
    "outputId": "b57c37b4-107a-4a17-c67f-45edb825b9d0"
   },
   "outputs": [
    {
     "name": "stdout",
     "output_type": "stream",
     "text": [
      "                            precision    recall  f1-score   support\n",
      "\n",
      "                   Alabama       0.00      0.00      0.00         1\n",
      "                   Arizona       1.00      1.00      1.00         2\n",
      "  British Columbia, Canada       0.00      0.00      0.00         0\n",
      "                California       0.93      0.93      0.93        14\n",
      "                  Delaware       1.00      1.00      1.00         7\n",
      "      District of Columbia       0.00      0.00      0.00         1\n",
      "                   England       0.00      0.00      0.00         0\n",
      "            England; Wales       0.00      0.00      0.00         0\n",
      "                   Florida       1.00      1.00      1.00         6\n",
      "                   Georgia       0.00      0.00      0.00         1\n",
      "                 Hong Kong       1.00      1.00      1.00         2\n",
      "                  Illinois       1.00      1.00      1.00         1\n",
      "                   Indiana       1.00      1.00      1.00         1\n",
      "                      Iowa       1.00      1.00      1.00         1\n",
      "                    Israel       1.00      1.00      1.00         1\n",
      "                     Japan       0.00      0.00      0.00         3\n",
      "                  Maryland       1.00      1.00      1.00         1\n",
      "             Massachusetts       1.00      1.00      1.00         1\n",
      "                  Michigan       0.00      0.00      0.00         0\n",
      "                 Minnesota       1.00      1.00      1.00         1\n",
      "                    Nevada       1.00      1.00      1.00         1\n",
      "                New Jersey       1.00      1.00      1.00         2\n",
      "                  New York       0.85      1.00      0.92        17\n",
      "   New York; Massachussets       0.00      0.00      0.00         1\n",
      "                      Ohio       1.00      1.00      1.00         3\n",
      "           Ontario, Canada       1.00      1.00      1.00         1\n",
      "              Pennsylvania       1.00      1.00      1.00         3\n",
      "People's Republic of China       0.40      1.00      0.57         2\n",
      "    Republic of Kazakhstan       0.00      0.00      0.00         1\n",
      "               Switzerland       0.00      0.00      0.00         2\n",
      "                 Tennessee       1.00      1.00      1.00         1\n",
      "                     Texas       0.83      1.00      0.91         5\n",
      " Texas; Singapore; Belgium       0.00      0.00      0.00         1\n",
      "                  Virginia       1.00      1.00      1.00         2\n",
      "                 Wisconsin       0.00      0.00      0.00         1\n",
      "\n",
      "                  accuracy                           0.85        87\n",
      "                 macro avg       0.60      0.63      0.61        87\n",
      "              weighted avg       0.80      0.85      0.82        87\n",
      "\n"
     ]
    },
    {
     "name": "stderr",
     "output_type": "stream",
     "text": [
      "/usr/local/lib/python3.7/dist-packages/sklearn/metrics/_classification.py:1308: UndefinedMetricWarning: Precision and F-score are ill-defined and being set to 0.0 in labels with no predicted samples. Use `zero_division` parameter to control this behavior.\n",
      "  _warn_prf(average, modifier, msg_start, len(result))\n",
      "/usr/local/lib/python3.7/dist-packages/sklearn/metrics/_classification.py:1308: UndefinedMetricWarning: Recall and F-score are ill-defined and being set to 0.0 in labels with no true samples. Use `zero_division` parameter to control this behavior.\n",
      "  _warn_prf(average, modifier, msg_start, len(result))\n",
      "/usr/local/lib/python3.7/dist-packages/sklearn/metrics/_classification.py:1308: UndefinedMetricWarning: Precision and F-score are ill-defined and being set to 0.0 in labels with no predicted samples. Use `zero_division` parameter to control this behavior.\n",
      "  _warn_prf(average, modifier, msg_start, len(result))\n",
      "/usr/local/lib/python3.7/dist-packages/sklearn/metrics/_classification.py:1308: UndefinedMetricWarning: Recall and F-score are ill-defined and being set to 0.0 in labels with no true samples. Use `zero_division` parameter to control this behavior.\n",
      "  _warn_prf(average, modifier, msg_start, len(result))\n",
      "/usr/local/lib/python3.7/dist-packages/sklearn/metrics/_classification.py:1308: UndefinedMetricWarning: Precision and F-score are ill-defined and being set to 0.0 in labels with no predicted samples. Use `zero_division` parameter to control this behavior.\n",
      "  _warn_prf(average, modifier, msg_start, len(result))\n",
      "/usr/local/lib/python3.7/dist-packages/sklearn/metrics/_classification.py:1308: UndefinedMetricWarning: Recall and F-score are ill-defined and being set to 0.0 in labels with no true samples. Use `zero_division` parameter to control this behavior.\n",
      "  _warn_prf(average, modifier, msg_start, len(result))\n"
     ]
    }
   ],
   "source": [
    "#classification report of SVM Model\n",
    "from sklearn.metrics import classification_report\n",
    "y_pred = svm_model.predict(tfidf_tv_test_features)\n",
    "print(classification_report(test_label_names_set, y_pred))"
   ]
  },
  {
   "cell_type": "markdown",
   "metadata": {
    "id": "KVq83Ij3nw3u"
   },
   "source": [
    "###confusion matrix"
   ]
  },
  {
   "cell_type": "code",
   "execution_count": 128,
   "metadata": {
    "colab": {
     "base_uri": "https://localhost:8080/"
    },
    "id": "C6l_FlMBkABH",
    "outputId": "9e6504b8-75d9-4cc9-ea62-9ab86516ff2b"
   },
   "outputs": [
    {
     "name": "stdout",
     "output_type": "stream",
     "text": [
      "[[0 0 0 ... 0 0 0]\n",
      " [0 2 0 ... 0 0 0]\n",
      " [0 0 0 ... 0 0 0]\n",
      " ...\n",
      " [0 0 0 ... 0 0 0]\n",
      " [0 0 0 ... 0 2 0]\n",
      " [0 0 0 ... 0 0 0]]\n"
     ]
    }
   ],
   "source": [
    "#confusion matrix\n",
    "from sklearn.metrics import confusion_matrix\n",
    "confusion_matrix_predict = confusion_matrix(test_label_names_set , y_pred)\n",
    "print(confusion_matrix_predict)"
   ]
  },
  {
   "cell_type": "markdown",
   "metadata": {
    "id": "EiW4x1eUA810"
   },
   "source": [
    "## *logestic regression*"
   ]
  },
  {
   "cell_type": "code",
   "execution_count": 129,
   "metadata": {
    "id": "E2Wd_zRHE-Ag"
   },
   "outputs": [],
   "source": [
    "#impoorting logistic regression algorithm from sklearn library\n",
    "import sklearn.linear_model as sk\n",
    "from sklearn.linear_model import LogisticRegression\n"
   ]
  },
  {
   "cell_type": "code",
   "execution_count": 130,
   "metadata": {
    "colab": {
     "base_uri": "https://localhost:8080/"
    },
    "id": "NofzNDIaBGT7",
    "outputId": "21083e57-ba2d-433d-8a72-7dfd0cf8c35d"
   },
   "outputs": [
    {
     "data": {
      "text/plain": [
       "LogisticRegression(C=1, max_iter=1000, multi_class='ovr', random_state=42)"
      ]
     },
     "execution_count": 130,
     "metadata": {},
     "output_type": "execute_result"
    }
   ],
   "source": [
    "#applying the SVM algorithm on training data to train the model\n",
    "lr_model = LogisticRegression(penalty='l2', solver='lbfgs', multi_class='ovr',\n",
    "                        max_iter=1000, C=1, random_state=42)\n",
    "lr_model.fit(tfidf_tv_train_features, train_label_names_set)"
   ]
  },
  {
   "cell_type": "code",
   "execution_count": 131,
   "metadata": {
    "colab": {
     "base_uri": "https://localhost:8080/"
    },
    "id": "UwT9SG4lJnIO",
    "outputId": "17ce8baa-45aa-45d9-cc1d-c477641870eb"
   },
   "outputs": [
    {
     "name": "stdout",
     "output_type": "stream",
     "text": [
      "                            precision    recall  f1-score   support\n",
      "\n",
      "                   Alabama       0.00      0.00      0.00         1\n",
      "                   Arizona       0.00      0.00      0.00         2\n",
      "                California       0.80      0.86      0.83        14\n",
      "                  Delaware       0.67      0.86      0.75         7\n",
      "      District of Columbia       0.00      0.00      0.00         1\n",
      "                   Florida       1.00      1.00      1.00         6\n",
      "                   Georgia       0.00      0.00      0.00         1\n",
      "                 Hong Kong       0.00      0.00      0.00         2\n",
      "                  Illinois       1.00      1.00      1.00         1\n",
      "                   Indiana       0.00      0.00      0.00         1\n",
      "                      Iowa       0.00      0.00      0.00         1\n",
      "                    Israel       1.00      1.00      1.00         1\n",
      "                     Japan       0.00      0.00      0.00         3\n",
      "                  Maryland       0.00      0.00      0.00         1\n",
      "             Massachusetts       0.00      0.00      0.00         1\n",
      "                 Minnesota       0.00      0.00      0.00         1\n",
      "                    Nevada       0.00      0.00      0.00         1\n",
      "                New Jersey       0.00      0.00      0.00         2\n",
      "                  New York       0.40      1.00      0.58        17\n",
      "   New York; Massachussets       0.00      0.00      0.00         1\n",
      "                      Ohio       0.00      0.00      0.00         3\n",
      "           Ontario, Canada       1.00      1.00      1.00         1\n",
      "              Pennsylvania       1.00      1.00      1.00         3\n",
      "People's Republic of China       1.00      1.00      1.00         2\n",
      "    Republic of Kazakhstan       0.00      0.00      0.00         1\n",
      "               Switzerland       0.00      0.00      0.00         2\n",
      "                 Tennessee       0.00      0.00      0.00         1\n",
      "                     Texas       0.83      1.00      0.91         5\n",
      " Texas; Singapore; Belgium       0.00      0.00      0.00         1\n",
      "                  Virginia       1.00      0.50      0.67         2\n",
      "                 Wisconsin       0.00      0.00      0.00         1\n",
      "\n",
      "                  accuracy                           0.63        87\n",
      "                 macro avg       0.31      0.33      0.31        87\n",
      "              weighted avg       0.49      0.63      0.53        87\n",
      "\n"
     ]
    },
    {
     "name": "stderr",
     "output_type": "stream",
     "text": [
      "/usr/local/lib/python3.7/dist-packages/sklearn/metrics/_classification.py:1308: UndefinedMetricWarning: Precision and F-score are ill-defined and being set to 0.0 in labels with no predicted samples. Use `zero_division` parameter to control this behavior.\n",
      "  _warn_prf(average, modifier, msg_start, len(result))\n",
      "/usr/local/lib/python3.7/dist-packages/sklearn/metrics/_classification.py:1308: UndefinedMetricWarning: Precision and F-score are ill-defined and being set to 0.0 in labels with no predicted samples. Use `zero_division` parameter to control this behavior.\n",
      "  _warn_prf(average, modifier, msg_start, len(result))\n",
      "/usr/local/lib/python3.7/dist-packages/sklearn/metrics/_classification.py:1308: UndefinedMetricWarning: Precision and F-score are ill-defined and being set to 0.0 in labels with no predicted samples. Use `zero_division` parameter to control this behavior.\n",
      "  _warn_prf(average, modifier, msg_start, len(result))\n"
     ]
    }
   ],
   "source": [
    "#testing and classification report of LOgestic regression\n",
    "y_pred = lr_model.predict(tfidf_tv_test_features)\n",
    "print(classification_report(test_label_names_set, y_pred))"
   ]
  },
  {
   "cell_type": "markdown",
   "metadata": {
    "id": "mIB2cbc3kfzn"
   },
   "source": [
    "###confusion matrix"
   ]
  },
  {
   "cell_type": "code",
   "execution_count": 132,
   "metadata": {
    "colab": {
     "base_uri": "https://localhost:8080/"
    },
    "id": "_7SrSxUMSuoQ",
    "outputId": "1969e781-ff95-4191-dad0-6711d68ea6ec"
   },
   "outputs": [
    {
     "name": "stdout",
     "output_type": "stream",
     "text": [
      "[[ 0  0  0  0  0  0  0  0  0  0  0  0  0  0  0  0  0  0  1  0  0  0  0  0\n",
      "   0  0  0  0  0  0  0]\n",
      " [ 0  0  0  0  0  0  0  0  0  0  0  0  0  0  0  0  0  0  2  0  0  0  0  0\n",
      "   0  0  0  0  0  0  0]\n",
      " [ 0  0 12  0  0  0  0  0  0  0  0  0  0  0  0  0  0  0  2  0  0  0  0  0\n",
      "   0  0  0  0  0  0  0]\n",
      " [ 0  0  0  6  0  0  0  0  0  0  0  0  0  0  0  0  0  0  1  0  0  0  0  0\n",
      "   0  0  0  0  0  0  0]\n",
      " [ 0  0  0  0  0  0  0  0  0  0  0  0  0  0  0  0  0  0  1  0  0  0  0  0\n",
      "   0  0  0  0  0  0  0]\n",
      " [ 0  0  0  0  0  6  0  0  0  0  0  0  0  0  0  0  0  0  0  0  0  0  0  0\n",
      "   0  0  0  0  0  0  0]\n",
      " [ 0  0  0  0  0  0  0  0  0  0  0  0  0  0  0  0  0  0  1  0  0  0  0  0\n",
      "   0  0  0  0  0  0  0]\n",
      " [ 0  0  0  0  0  0  0  0  0  0  0  0  0  0  0  0  0  0  2  0  0  0  0  0\n",
      "   0  0  0  0  0  0  0]\n",
      " [ 0  0  0  0  0  0  0  0  1  0  0  0  0  0  0  0  0  0  0  0  0  0  0  0\n",
      "   0  0  0  0  0  0  0]\n",
      " [ 0  0  0  0  0  0  0  0  0  0  0  0  0  0  0  0  0  0  1  0  0  0  0  0\n",
      "   0  0  0  0  0  0  0]\n",
      " [ 0  0  0  0  0  0  0  0  0  0  0  0  0  0  0  0  0  0  1  0  0  0  0  0\n",
      "   0  0  0  0  0  0  0]\n",
      " [ 0  0  0  0  0  0  0  0  0  0  0  1  0  0  0  0  0  0  0  0  0  0  0  0\n",
      "   0  0  0  0  0  0  0]\n",
      " [ 0  0  1  0  0  0  0  0  0  0  0  0  0  0  0  0  0  0  2  0  0  0  0  0\n",
      "   0  0  0  0  0  0  0]\n",
      " [ 0  0  0  1  0  0  0  0  0  0  0  0  0  0  0  0  0  0  0  0  0  0  0  0\n",
      "   0  0  0  0  0  0  0]\n",
      " [ 0  0  0  1  0  0  0  0  0  0  0  0  0  0  0  0  0  0  0  0  0  0  0  0\n",
      "   0  0  0  0  0  0  0]\n",
      " [ 0  0  0  0  0  0  0  0  0  0  0  0  0  0  0  0  0  0  1  0  0  0  0  0\n",
      "   0  0  0  0  0  0  0]\n",
      " [ 0  0  0  1  0  0  0  0  0  0  0  0  0  0  0  0  0  0  0  0  0  0  0  0\n",
      "   0  0  0  0  0  0  0]\n",
      " [ 0  0  0  0  0  0  0  0  0  0  0  0  0  0  0  0  0  0  2  0  0  0  0  0\n",
      "   0  0  0  0  0  0  0]\n",
      " [ 0  0  0  0  0  0  0  0  0  0  0  0  0  0  0  0  0  0 17  0  0  0  0  0\n",
      "   0  0  0  0  0  0  0]\n",
      " [ 0  0  0  0  0  0  0  0  0  0  0  0  0  0  0  0  0  0  1  0  0  0  0  0\n",
      "   0  0  0  0  0  0  0]\n",
      " [ 0  0  1  0  0  0  0  0  0  0  0  0  0  0  0  0  0  0  2  0  0  0  0  0\n",
      "   0  0  0  0  0  0  0]\n",
      " [ 0  0  0  0  0  0  0  0  0  0  0  0  0  0  0  0  0  0  0  0  0  1  0  0\n",
      "   0  0  0  0  0  0  0]\n",
      " [ 0  0  0  0  0  0  0  0  0  0  0  0  0  0  0  0  0  0  0  0  0  0  3  0\n",
      "   0  0  0  0  0  0  0]\n",
      " [ 0  0  0  0  0  0  0  0  0  0  0  0  0  0  0  0  0  0  0  0  0  0  0  2\n",
      "   0  0  0  0  0  0  0]\n",
      " [ 0  0  0  0  0  0  0  0  0  0  0  0  0  0  0  0  0  0  1  0  0  0  0  0\n",
      "   0  0  0  0  0  0  0]\n",
      " [ 0  0  0  0  0  0  0  0  0  0  0  0  0  0  0  0  0  0  2  0  0  0  0  0\n",
      "   0  0  0  0  0  0  0]\n",
      " [ 0  0  1  0  0  0  0  0  0  0  0  0  0  0  0  0  0  0  0  0  0  0  0  0\n",
      "   0  0  0  0  0  0  0]\n",
      " [ 0  0  0  0  0  0  0  0  0  0  0  0  0  0  0  0  0  0  0  0  0  0  0  0\n",
      "   0  0  0  5  0  0  0]\n",
      " [ 0  0  0  0  0  0  0  0  0  0  0  0  0  0  0  0  0  0  0  0  0  0  0  0\n",
      "   0  0  0  1  0  0  0]\n",
      " [ 0  0  0  0  0  0  0  0  0  0  0  0  0  0  0  0  0  0  1  0  0  0  0  0\n",
      "   0  0  0  0  0  1  0]\n",
      " [ 0  0  0  0  0  0  0  0  0  0  0  0  0  0  0  0  0  0  1  0  0  0  0  0\n",
      "   0  0  0  0  0  0  0]]\n"
     ]
    }
   ],
   "source": [
    "#confusion matrix\n",
    "from sklearn.metrics import confusion_matrix\n",
    "confusion_matrix_predict = confusion_matrix(test_label_names_set , y_pred)\n",
    "print(confusion_matrix_predict)"
   ]
  }
 ],
 "metadata": {
  "colab": {
   "collapsed_sections": [],
   "name": "classification",
   "provenance": []
  },
  "kernelspec": {
   "display_name": "Python 3 (ipykernel)",
   "language": "python",
   "name": "python3"
  },
  "language_info": {
   "codemirror_mode": {
    "name": "ipython",
    "version": 3
   },
   "file_extension": ".py",
   "mimetype": "text/x-python",
   "name": "python",
   "nbconvert_exporter": "python",
   "pygments_lexer": "ipython3",
   "version": "3.8.12"
  }
 },
 "nbformat": 4,
 "nbformat_minor": 1
}
