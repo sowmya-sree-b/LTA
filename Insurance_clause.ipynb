{
  "nbformat": 4,
  "nbformat_minor": 0,
  "metadata": {
    "colab": {
      "name": "classification",
      "provenance": [],
      "collapsed_sections": []
    },
    "kernelspec": {
      "name": "python3",
      "display_name": "Python 3"
    },
    "language_info": {
      "name": "python"
    }
  },
  "cells": [
    {
      "cell_type": "markdown",
      "metadata": {
        "id": "E_Mp3CuOSio7"
      },
      "source": [
        "# **Getting started**  "
      ]
    },
    {
      "cell_type": "markdown",
      "source": [
        "setting up the required data files location from google drive "
      ],
      "metadata": {
        "id": "FF2_yeDnCb-z"
      }
    },
    {
      "cell_type": "code",
      "metadata": {
        "colab": {
          "base_uri": "https://localhost:8080/"
        },
        "id": "Uop7UQXASW3Y",
        "outputId": "9816d23a-7eb5-474b-e104-c91f8655fc88"
      },
      "source": [
        "#lodaing files folder from google drive \n",
        "#give file path in drive.mount('file path')\n",
        "from google.colab import drive\n",
        "drive.mount('/content/drive')"
      ],
      "execution_count": 529,
      "outputs": [
        {
          "output_type": "stream",
          "name": "stdout",
          "text": [
            "Drive already mounted at /content/drive; to attempt to forcibly remount, call drive.mount(\"/content/drive\", force_remount=True).\n"
          ]
        }
      ]
    },
    {
      "cell_type": "code",
      "metadata": {
        "id": "4FN7ULV_qx55"
      },
      "source": [
        "#importing libraries \n",
        "import nltk\n",
        "import os\n",
        "import re\n",
        "import numpy as np\n",
        "import pandas as pd\n",
        "from nltk.corpus import PlaintextCorpusReader,stopwords"
      ],
      "execution_count": 530,
      "outputs": []
    },
    {
      "cell_type": "markdown",
      "metadata": {
        "id": "w2jZGBNGaWd7"
      },
      "source": [
        "# ***extracting data into data frame***"
      ]
    },
    {
      "cell_type": "code",
      "metadata": {
        "colab": {
          "base_uri": "https://localhost:8080/",
          "height": 838
        },
        "id": "JrHxppvL5D3V",
        "outputId": "a78c2044-e4d9-4a30-8dcc-3631d1e3e33f"
      },
      "source": [
        "import pandas as pd\n",
        "df_csv=pd.read_csv(\"/content/drive/MyDrive/workingWithP/master_clauses_1.csv\")\n",
        "df_csv.head()"
      ],
      "execution_count": 531,
      "outputs": [
        {
          "output_type": "execute_result",
          "data": {
            "text/html": [
              "\n",
              "  <div id=\"df-d107fcc3-5c07-4a95-8765-28b6fe1efdfa\">\n",
              "    <div class=\"colab-df-container\">\n",
              "      <div>\n",
              "<style scoped>\n",
              "    .dataframe tbody tr th:only-of-type {\n",
              "        vertical-align: middle;\n",
              "    }\n",
              "\n",
              "    .dataframe tbody tr th {\n",
              "        vertical-align: top;\n",
              "    }\n",
              "\n",
              "    .dataframe thead th {\n",
              "        text-align: right;\n",
              "    }\n",
              "</style>\n",
              "<table border=\"1\" class=\"dataframe\">\n",
              "  <thead>\n",
              "    <tr style=\"text-align: right;\">\n",
              "      <th></th>\n",
              "      <th>Filename</th>\n",
              "      <th>Document Name</th>\n",
              "      <th>Document Name-Answer</th>\n",
              "      <th>Parties</th>\n",
              "      <th>Parties-Answer</th>\n",
              "      <th>Agreement Date</th>\n",
              "      <th>Agreement Date-Answer</th>\n",
              "      <th>Effective Date</th>\n",
              "      <th>Effective Date-Answer</th>\n",
              "      <th>Expiration Date</th>\n",
              "      <th>Expiration Date-Answer</th>\n",
              "      <th>Renewal Term</th>\n",
              "      <th>Renewal Term-Answer</th>\n",
              "      <th>Notice Period To Terminate Renewal</th>\n",
              "      <th>Notice Period To Terminate Renewal- Answer</th>\n",
              "      <th>Governing Law</th>\n",
              "      <th>Governing Law-Answer</th>\n",
              "      <th>Most Favored Nation</th>\n",
              "      <th>Most Favored Nation-Answer</th>\n",
              "      <th>Competitive Restriction Exception</th>\n",
              "      <th>Competitive Restriction Exception-Answer</th>\n",
              "      <th>Non-Compete</th>\n",
              "      <th>Non-Compete-Answer</th>\n",
              "      <th>Exclusivity</th>\n",
              "      <th>Exclusivity-Answer</th>\n",
              "      <th>No-Solicit Of Customers</th>\n",
              "      <th>No-Solicit Of Customers-Answer</th>\n",
              "      <th>No-Solicit Of Employees</th>\n",
              "      <th>No-Solicit Of Employees-Answer</th>\n",
              "      <th>Non-Disparagement</th>\n",
              "      <th>Non-Disparagement-Answer</th>\n",
              "      <th>Termination For Convenience</th>\n",
              "      <th>Termination For Convenience-Answer</th>\n",
              "      <th>Rofr/Rofo/Rofn</th>\n",
              "      <th>Rofr/Rofo/Rofn-Answer</th>\n",
              "      <th>Change Of Control</th>\n",
              "      <th>Change Of Control-Answer</th>\n",
              "      <th>Anti-Assignment</th>\n",
              "      <th>Anti-Assignment-Answer</th>\n",
              "      <th>Revenue/Profit Sharing</th>\n",
              "      <th>...</th>\n",
              "      <th>Minimum Commitment</th>\n",
              "      <th>Minimum Commitment-Answer</th>\n",
              "      <th>Volume Restriction</th>\n",
              "      <th>Volume Restriction-Answer</th>\n",
              "      <th>Ip Ownership Assignment</th>\n",
              "      <th>Ip Ownership Assignment-Answer</th>\n",
              "      <th>Joint Ip Ownership</th>\n",
              "      <th>Joint Ip Ownership-Answer</th>\n",
              "      <th>License Grant</th>\n",
              "      <th>License Grant-Answer</th>\n",
              "      <th>Non-Transferable License</th>\n",
              "      <th>Non-Transferable License-Answer</th>\n",
              "      <th>Affiliate License-Licensor</th>\n",
              "      <th>Affiliate License-Licensor-Answer</th>\n",
              "      <th>Affiliate License-Licensee</th>\n",
              "      <th>Affiliate License-Licensee-Answer</th>\n",
              "      <th>Unlimited/All-You-Can-Eat-License</th>\n",
              "      <th>Unlimited/All-You-Can-Eat-License-Answer</th>\n",
              "      <th>Irrevocable Or Perpetual License</th>\n",
              "      <th>Irrevocable Or Perpetual License-Answer</th>\n",
              "      <th>Source Code Escrow</th>\n",
              "      <th>Source Code Escrow-Answer</th>\n",
              "      <th>Post-Termination Services</th>\n",
              "      <th>Post-Termination Services-Answer</th>\n",
              "      <th>Audit Rights</th>\n",
              "      <th>Audit Rights-Answer</th>\n",
              "      <th>Uncapped Liability</th>\n",
              "      <th>Uncapped Liability-Answer</th>\n",
              "      <th>Cap On Liability</th>\n",
              "      <th>Cap On Liability-Answer</th>\n",
              "      <th>Liquidated Damages</th>\n",
              "      <th>Liquidated Damages-Answer</th>\n",
              "      <th>Warranty Duration</th>\n",
              "      <th>Warranty Duration-Answer</th>\n",
              "      <th>Insurance</th>\n",
              "      <th>Insurance-Answer</th>\n",
              "      <th>Covenant Not To Sue</th>\n",
              "      <th>Covenant Not To Sue-Answer</th>\n",
              "      <th>Third Party Beneficiary</th>\n",
              "      <th>Third Party Beneficiary-Answer</th>\n",
              "    </tr>\n",
              "  </thead>\n",
              "  <tbody>\n",
              "    <tr>\n",
              "      <th>0</th>\n",
              "      <td>2ThemartComInc_19990826_10-12G_EX-10.10_670028...</td>\n",
              "      <td>['CO-BRANDING AND ADVERTISING AGREEMENT']</td>\n",
              "      <td>CO-BRANDING AND ADVERTISING AGREEMENT</td>\n",
              "      <td>['2THEMART.COM, INC.', '2TheMart', 'i-Escrow',...</td>\n",
              "      <td>I-ESCROW, INC.  (\"i-Escrow\" ); 2THEMART.COM, I...</td>\n",
              "      <td>['June 21, 1999']</td>\n",
              "      <td>6/21/99</td>\n",
              "      <td>['June 21, 1999']</td>\n",
              "      <td>6/21/99</td>\n",
              "      <td>['The term of this Agreement shall continue fo...</td>\n",
              "      <td>6/21/00</td>\n",
              "      <td>['In the event that either party does not give...</td>\n",
              "      <td>Successive 1 year</td>\n",
              "      <td>['In the event that either party does not give...</td>\n",
              "      <td>30 days</td>\n",
              "      <td>['This Agreement will be governed and construe...</td>\n",
              "      <td>California</td>\n",
              "      <td>[]</td>\n",
              "      <td>No</td>\n",
              "      <td>[]</td>\n",
              "      <td>No</td>\n",
              "      <td>[\"i-Escrow shall not run banner advertisements...</td>\n",
              "      <td>Yes</td>\n",
              "      <td>[]</td>\n",
              "      <td>No</td>\n",
              "      <td>[]</td>\n",
              "      <td>No</td>\n",
              "      <td>[]</td>\n",
              "      <td>No</td>\n",
              "      <td>[]</td>\n",
              "      <td>No</td>\n",
              "      <td>[]</td>\n",
              "      <td>No</td>\n",
              "      <td>[]</td>\n",
              "      <td>No</td>\n",
              "      <td>[\"If a majority of the equity securities of ei...</td>\n",
              "      <td>Yes</td>\n",
              "      <td>['All rights (under any applicable intellectua...</td>\n",
              "      <td>Yes</td>\n",
              "      <td>['After the Launch Date, i-Escrow shall pay 2T...</td>\n",
              "      <td>...</td>\n",
              "      <td>[]</td>\n",
              "      <td>No</td>\n",
              "      <td>[]</td>\n",
              "      <td>No</td>\n",
              "      <td>[]</td>\n",
              "      <td>No</td>\n",
              "      <td>['Notwithstanding the foregoing, to the extent...</td>\n",
              "      <td>Yes</td>\n",
              "      <td>['Subject to the terms and conditions of this ...</td>\n",
              "      <td>Yes</td>\n",
              "      <td>['Subject to the terms and conditions of this ...</td>\n",
              "      <td>Yes</td>\n",
              "      <td>[]</td>\n",
              "      <td>No</td>\n",
              "      <td>[]</td>\n",
              "      <td>No</td>\n",
              "      <td>[]</td>\n",
              "      <td>No</td>\n",
              "      <td>[]</td>\n",
              "      <td>No</td>\n",
              "      <td>[]</td>\n",
              "      <td>No</td>\n",
              "      <td>['Notwithstanding the foregoing, unless this A...</td>\n",
              "      <td>Yes</td>\n",
              "      <td>[\"Such inspection shall be at 2TheMart's expen...</td>\n",
              "      <td>Yes</td>\n",
              "      <td>['EXCEPT IN THE EVENT OF A BREACH OF SECTION 1...</td>\n",
              "      <td>Yes</td>\n",
              "      <td>['EXCEPT IN THE EVENT OF A BREACH OF SECTION 1...</td>\n",
              "      <td>Yes</td>\n",
              "      <td>[]</td>\n",
              "      <td>No</td>\n",
              "      <td>[]</td>\n",
              "      <td>No</td>\n",
              "      <td>[]</td>\n",
              "      <td>No</td>\n",
              "      <td>[]</td>\n",
              "      <td>No</td>\n",
              "      <td>[]</td>\n",
              "      <td>No</td>\n",
              "    </tr>\n",
              "    <tr>\n",
              "      <th>1</th>\n",
              "      <td>ABILITYINC_06_15_2020-EX-4.25-SERVICES AGREEME...</td>\n",
              "      <td>['Services Agreement']</td>\n",
              "      <td>Services Agreement</td>\n",
              "      <td>['\"Provider\"', 'TELCOSTAR PTE, LTD.', 'Each of...</td>\n",
              "      <td>[ * * * ] (\"Provider\"); TELCOSTAR PTE, LTD.; A...</td>\n",
              "      <td>['October 1, 2019']</td>\n",
              "      <td>10/01/2019</td>\n",
              "      <td>['November 1, 2019']</td>\n",
              "      <td>11/01/2019</td>\n",
              "      <td>['This Agreement be deemed effective as of the...</td>\n",
              "      <td>12/31/20</td>\n",
              "      <td>[]</td>\n",
              "      <td>NaN</td>\n",
              "      <td>[]</td>\n",
              "      <td>NaN</td>\n",
              "      <td>['This Agreement and any claim, controversy or...</td>\n",
              "      <td>Israel</td>\n",
              "      <td>[]</td>\n",
              "      <td>No</td>\n",
              "      <td>[]</td>\n",
              "      <td>No</td>\n",
              "      <td>[]</td>\n",
              "      <td>No</td>\n",
              "      <td>[]</td>\n",
              "      <td>No</td>\n",
              "      <td>[]</td>\n",
              "      <td>No</td>\n",
              "      <td>[]</td>\n",
              "      <td>No</td>\n",
              "      <td>[]</td>\n",
              "      <td>No</td>\n",
              "      <td>['Each of the Recipient and the Provider may, ...</td>\n",
              "      <td>Yes</td>\n",
              "      <td>[]</td>\n",
              "      <td>No</td>\n",
              "      <td>[]</td>\n",
              "      <td>No</td>\n",
              "      <td>['Provider may not assign, delegate or otherwi...</td>\n",
              "      <td>Yes</td>\n",
              "      <td>[]</td>\n",
              "      <td>...</td>\n",
              "      <td>[]</td>\n",
              "      <td>No</td>\n",
              "      <td>[]</td>\n",
              "      <td>No</td>\n",
              "      <td>['To the extent that any writings or works of ...</td>\n",
              "      <td>Yes</td>\n",
              "      <td>[]</td>\n",
              "      <td>No</td>\n",
              "      <td>[]</td>\n",
              "      <td>No</td>\n",
              "      <td>[]</td>\n",
              "      <td>No</td>\n",
              "      <td>[]</td>\n",
              "      <td>No</td>\n",
              "      <td>[]</td>\n",
              "      <td>No</td>\n",
              "      <td>[]</td>\n",
              "      <td>No</td>\n",
              "      <td>[]</td>\n",
              "      <td>No</td>\n",
              "      <td>[]</td>\n",
              "      <td>No</td>\n",
              "      <td>[]</td>\n",
              "      <td>No</td>\n",
              "      <td>[]</td>\n",
              "      <td>No</td>\n",
              "      <td>[]</td>\n",
              "      <td>No</td>\n",
              "      <td>[]</td>\n",
              "      <td>No</td>\n",
              "      <td>[]</td>\n",
              "      <td>No</td>\n",
              "      <td>[]</td>\n",
              "      <td>No</td>\n",
              "      <td>[]</td>\n",
              "      <td>No</td>\n",
              "      <td>[]</td>\n",
              "      <td>No</td>\n",
              "      <td>[]</td>\n",
              "      <td>No</td>\n",
              "    </tr>\n",
              "    <tr>\n",
              "      <th>2</th>\n",
              "      <td>ACCELERATEDTECHNOLOGIESHOLDINGCORP_04_24_2003-...</td>\n",
              "      <td>['JOINT VENTURE AGREEMENT']</td>\n",
              "      <td>JOINT VENTURE AGREEMENT</td>\n",
              "      <td>['Pivotal Self Service Tech, Inc.', '(the \"Par...</td>\n",
              "      <td>Collectible Concepts Group, Inc. (\"CCGI\"); Piv...</td>\n",
              "      <td>[]</td>\n",
              "      <td>NaN</td>\n",
              "      <td>['The Joint Venture shall commence on the 1st ...</td>\n",
              "      <td>03/01/2003</td>\n",
              "      <td>['The Joint Venture shall commence on the 1st ...</td>\n",
              "      <td>2/28/04</td>\n",
              "      <td>[]</td>\n",
              "      <td>NaN</td>\n",
              "      <td>[]</td>\n",
              "      <td>NaN</td>\n",
              "      <td>['The Joint Venturers declare that in entering...</td>\n",
              "      <td>Pennsylvania</td>\n",
              "      <td>[]</td>\n",
              "      <td>No</td>\n",
              "      <td>[]</td>\n",
              "      <td>No</td>\n",
              "      <td>[]</td>\n",
              "      <td>No</td>\n",
              "      <td>[]</td>\n",
              "      <td>No</td>\n",
              "      <td>[]</td>\n",
              "      <td>No</td>\n",
              "      <td>[]</td>\n",
              "      <td>No</td>\n",
              "      <td>[]</td>\n",
              "      <td>No</td>\n",
              "      <td>[]</td>\n",
              "      <td>No</td>\n",
              "      <td>[]</td>\n",
              "      <td>No</td>\n",
              "      <td>[]</td>\n",
              "      <td>No</td>\n",
              "      <td>['No Joint      Venturer shall be authorized o...</td>\n",
              "      <td>Yes</td>\n",
              "      <td>['Division of Income and Losses. All income an...</td>\n",
              "      <td>...</td>\n",
              "      <td>[]</td>\n",
              "      <td>No</td>\n",
              "      <td>[]</td>\n",
              "      <td>No</td>\n",
              "      <td>[]</td>\n",
              "      <td>No</td>\n",
              "      <td>[]</td>\n",
              "      <td>No</td>\n",
              "      <td>[]</td>\n",
              "      <td>No</td>\n",
              "      <td>[]</td>\n",
              "      <td>No</td>\n",
              "      <td>[]</td>\n",
              "      <td>No</td>\n",
              "      <td>[]</td>\n",
              "      <td>No</td>\n",
              "      <td>[]</td>\n",
              "      <td>No</td>\n",
              "      <td>[]</td>\n",
              "      <td>No</td>\n",
              "      <td>[]</td>\n",
              "      <td>No</td>\n",
              "      <td>[]</td>\n",
              "      <td>No</td>\n",
              "      <td>['All books and records of every kind and char...</td>\n",
              "      <td>Yes</td>\n",
              "      <td>[]</td>\n",
              "      <td>No</td>\n",
              "      <td>[]</td>\n",
              "      <td>No</td>\n",
              "      <td>[]</td>\n",
              "      <td>No</td>\n",
              "      <td>[]</td>\n",
              "      <td>No</td>\n",
              "      <td>[]</td>\n",
              "      <td>No</td>\n",
              "      <td>[]</td>\n",
              "      <td>No</td>\n",
              "      <td>[]</td>\n",
              "      <td>No</td>\n",
              "    </tr>\n",
              "    <tr>\n",
              "      <th>3</th>\n",
              "      <td>ACCURAYINC_09_01_2010-EX-10.31-DISTRIBUTOR AGR...</td>\n",
              "      <td>['Multiple LINAC and Multi-Modality Distributo...</td>\n",
              "      <td>Multiple LINAC and Multi-Modality Distributor ...</td>\n",
              "      <td>['Siemens', 'Accuray', 'ACCURAY INCORPORATED',...</td>\n",
              "      <td>ACCURAY INCORPORATED, (\"Accuray\"); SIEMENS AKT...</td>\n",
              "      <td>['June 8, 2010']</td>\n",
              "      <td>06/08/2010</td>\n",
              "      <td>['June 8, 2010']</td>\n",
              "      <td>06/08/2010</td>\n",
              "      <td>['Unless otherwise agreed in writing by Accura...</td>\n",
              "      <td>perpetual</td>\n",
              "      <td>[]</td>\n",
              "      <td>NaN</td>\n",
              "      <td>[]</td>\n",
              "      <td>NaN</td>\n",
              "      <td>['This Agreement shall be governed by, and con...</td>\n",
              "      <td>Germany</td>\n",
              "      <td>[]</td>\n",
              "      <td>No</td>\n",
              "      <td>[]</td>\n",
              "      <td>No</td>\n",
              "      <td>[]</td>\n",
              "      <td>No</td>\n",
              "      <td>[]</td>\n",
              "      <td>No</td>\n",
              "      <td>[]</td>\n",
              "      <td>No</td>\n",
              "      <td>[]</td>\n",
              "      <td>No</td>\n",
              "      <td>[]</td>\n",
              "      <td>No</td>\n",
              "      <td>[]</td>\n",
              "      <td>No</td>\n",
              "      <td>[]</td>\n",
              "      <td>No</td>\n",
              "      <td>[]</td>\n",
              "      <td>No</td>\n",
              "      <td>['Neither this Agreement, nor any of the right...</td>\n",
              "      <td>Yes</td>\n",
              "      <td>[]</td>\n",
              "      <td>...</td>\n",
              "      <td>[]</td>\n",
              "      <td>No</td>\n",
              "      <td>[]</td>\n",
              "      <td>No</td>\n",
              "      <td>[]</td>\n",
              "      <td>No</td>\n",
              "      <td>[]</td>\n",
              "      <td>No</td>\n",
              "      <td>['Accuray  hereby grants Distributor or Custom...</td>\n",
              "      <td>Yes</td>\n",
              "      <td>['Accuray  hereby grants Distributor or Custom...</td>\n",
              "      <td>Yes</td>\n",
              "      <td>[]</td>\n",
              "      <td>No</td>\n",
              "      <td>[]</td>\n",
              "      <td>No</td>\n",
              "      <td>[]</td>\n",
              "      <td>No</td>\n",
              "      <td>[]</td>\n",
              "      <td>No</td>\n",
              "      <td>[]</td>\n",
              "      <td>No</td>\n",
              "      <td>['Furthermore, each of the parties agree to co...</td>\n",
              "      <td>Yes</td>\n",
              "      <td>[]</td>\n",
              "      <td>No</td>\n",
              "      <td>['WITHOUT AFFECTING STRICT PRODUCT LIABILITY U...</td>\n",
              "      <td>Yes</td>\n",
              "      <td>[\"This will be Accuray's sole and exclusive ob...</td>\n",
              "      <td>Yes</td>\n",
              "      <td>[]</td>\n",
              "      <td>No</td>\n",
              "      <td>['Accuray will provide a warranty to each Cust...</td>\n",
              "      <td>Yes</td>\n",
              "      <td>[]</td>\n",
              "      <td>No</td>\n",
              "      <td>[]</td>\n",
              "      <td>No</td>\n",
              "      <td>[]</td>\n",
              "      <td>No</td>\n",
              "    </tr>\n",
              "    <tr>\n",
              "      <th>4</th>\n",
              "      <td>ADAMSGOLFINC_03_21_2005-EX-10.17-ENDORSEMENT A...</td>\n",
              "      <td>['ENDORSEMENT AGREEMENT']</td>\n",
              "      <td>ENDORSEMENT AGREEMENT</td>\n",
              "      <td>['ADAMS GOLF, LTD.', 'TOM WATSON', 'ADAMS GOLF...</td>\n",
              "      <td>TOM WATSON (\"CONSULTANT\"); ADAMS GOLF, LTD. (\"...</td>\n",
              "      <td>['January 13, 2005']</td>\n",
              "      <td>1/13/05</td>\n",
              "      <td>['The Term of this Agreement shall be for a pe...</td>\n",
              "      <td>09/01/2004</td>\n",
              "      <td>['The Term of this Agreement shall be for a pe...</td>\n",
              "      <td>[]/[]/[]</td>\n",
              "      <td>[]</td>\n",
              "      <td>NaN</td>\n",
              "      <td>[]</td>\n",
              "      <td>NaN</td>\n",
              "      <td>['This Agreement shall be governed and constru...</td>\n",
              "      <td>Kansas</td>\n",
              "      <td>[]</td>\n",
              "      <td>No</td>\n",
              "      <td>[\"The parties expressly  agree that CONSULTANT...</td>\n",
              "      <td>Yes</td>\n",
              "      <td>[\"When endorsing a non-competitive product, un...</td>\n",
              "      <td>Yes</td>\n",
              "      <td>[\"CONSULTANT hereby gives and grants to ADAMS ...</td>\n",
              "      <td>Yes</td>\n",
              "      <td>[]</td>\n",
              "      <td>No</td>\n",
              "      <td>[]</td>\n",
              "      <td>No</td>\n",
              "      <td>[]</td>\n",
              "      <td>No</td>\n",
              "      <td>[]</td>\n",
              "      <td>No</td>\n",
              "      <td>[]</td>\n",
              "      <td>No</td>\n",
              "      <td>[]</td>\n",
              "      <td>No</td>\n",
              "      <td>['Neither ADAMS GOLF nor CONSULTANT shall have...</td>\n",
              "      <td>Yes</td>\n",
              "      <td>[]</td>\n",
              "      <td>...</td>\n",
              "      <td>['In each and every calendar year of this Agre...</td>\n",
              "      <td>Yes</td>\n",
              "      <td>[\"During  the term of this Agreement, CONSULTA...</td>\n",
              "      <td>Yes</td>\n",
              "      <td>[]</td>\n",
              "      <td>No</td>\n",
              "      <td>[]</td>\n",
              "      <td>No</td>\n",
              "      <td>[\"CONSULTANT hereby gives and grants to ADAMS ...</td>\n",
              "      <td>Yes</td>\n",
              "      <td>[]</td>\n",
              "      <td>No</td>\n",
              "      <td>[]</td>\n",
              "      <td>No</td>\n",
              "      <td>[]</td>\n",
              "      <td>No</td>\n",
              "      <td>[]</td>\n",
              "      <td>No</td>\n",
              "      <td>[]</td>\n",
              "      <td>No</td>\n",
              "      <td>[]</td>\n",
              "      <td>No</td>\n",
              "      <td>[]</td>\n",
              "      <td>No</td>\n",
              "      <td>[]</td>\n",
              "      <td>No</td>\n",
              "      <td>[]</td>\n",
              "      <td>No</td>\n",
              "      <td>[]</td>\n",
              "      <td>No</td>\n",
              "      <td>[]</td>\n",
              "      <td>No</td>\n",
              "      <td>[]</td>\n",
              "      <td>No</td>\n",
              "      <td>[]</td>\n",
              "      <td>No</td>\n",
              "      <td>[]</td>\n",
              "      <td>No</td>\n",
              "      <td>[]</td>\n",
              "      <td>No</td>\n",
              "    </tr>\n",
              "  </tbody>\n",
              "</table>\n",
              "<p>5 rows × 83 columns</p>\n",
              "</div>\n",
              "      <button class=\"colab-df-convert\" onclick=\"convertToInteractive('df-d107fcc3-5c07-4a95-8765-28b6fe1efdfa')\"\n",
              "              title=\"Convert this dataframe to an interactive table.\"\n",
              "              style=\"display:none;\">\n",
              "        \n",
              "  <svg xmlns=\"http://www.w3.org/2000/svg\" height=\"24px\"viewBox=\"0 0 24 24\"\n",
              "       width=\"24px\">\n",
              "    <path d=\"M0 0h24v24H0V0z\" fill=\"none\"/>\n",
              "    <path d=\"M18.56 5.44l.94 2.06.94-2.06 2.06-.94-2.06-.94-.94-2.06-.94 2.06-2.06.94zm-11 1L8.5 8.5l.94-2.06 2.06-.94-2.06-.94L8.5 2.5l-.94 2.06-2.06.94zm10 10l.94 2.06.94-2.06 2.06-.94-2.06-.94-.94-2.06-.94 2.06-2.06.94z\"/><path d=\"M17.41 7.96l-1.37-1.37c-.4-.4-.92-.59-1.43-.59-.52 0-1.04.2-1.43.59L10.3 9.45l-7.72 7.72c-.78.78-.78 2.05 0 2.83L4 21.41c.39.39.9.59 1.41.59.51 0 1.02-.2 1.41-.59l7.78-7.78 2.81-2.81c.8-.78.8-2.07 0-2.86zM5.41 20L4 18.59l7.72-7.72 1.47 1.35L5.41 20z\"/>\n",
              "  </svg>\n",
              "      </button>\n",
              "      \n",
              "  <style>\n",
              "    .colab-df-container {\n",
              "      display:flex;\n",
              "      flex-wrap:wrap;\n",
              "      gap: 12px;\n",
              "    }\n",
              "\n",
              "    .colab-df-convert {\n",
              "      background-color: #E8F0FE;\n",
              "      border: none;\n",
              "      border-radius: 50%;\n",
              "      cursor: pointer;\n",
              "      display: none;\n",
              "      fill: #1967D2;\n",
              "      height: 32px;\n",
              "      padding: 0 0 0 0;\n",
              "      width: 32px;\n",
              "    }\n",
              "\n",
              "    .colab-df-convert:hover {\n",
              "      background-color: #E2EBFA;\n",
              "      box-shadow: 0px 1px 2px rgba(60, 64, 67, 0.3), 0px 1px 3px 1px rgba(60, 64, 67, 0.15);\n",
              "      fill: #174EA6;\n",
              "    }\n",
              "\n",
              "    [theme=dark] .colab-df-convert {\n",
              "      background-color: #3B4455;\n",
              "      fill: #D2E3FC;\n",
              "    }\n",
              "\n",
              "    [theme=dark] .colab-df-convert:hover {\n",
              "      background-color: #434B5C;\n",
              "      box-shadow: 0px 1px 3px 1px rgba(0, 0, 0, 0.15);\n",
              "      filter: drop-shadow(0px 1px 2px rgba(0, 0, 0, 0.3));\n",
              "      fill: #FFFFFF;\n",
              "    }\n",
              "  </style>\n",
              "\n",
              "      <script>\n",
              "        const buttonEl =\n",
              "          document.querySelector('#df-d107fcc3-5c07-4a95-8765-28b6fe1efdfa button.colab-df-convert');\n",
              "        buttonEl.style.display =\n",
              "          google.colab.kernel.accessAllowed ? 'block' : 'none';\n",
              "\n",
              "        async function convertToInteractive(key) {\n",
              "          const element = document.querySelector('#df-d107fcc3-5c07-4a95-8765-28b6fe1efdfa');\n",
              "          const dataTable =\n",
              "            await google.colab.kernel.invokeFunction('convertToInteractive',\n",
              "                                                     [key], {});\n",
              "          if (!dataTable) return;\n",
              "\n",
              "          const docLinkHtml = 'Like what you see? Visit the ' +\n",
              "            '<a target=\"_blank\" href=https://colab.research.google.com/notebooks/data_table.ipynb>data table notebook</a>'\n",
              "            + ' to learn more about interactive tables.';\n",
              "          element.innerHTML = '';\n",
              "          dataTable['output_type'] = 'display_data';\n",
              "          await google.colab.output.renderOutput(dataTable, element);\n",
              "          const docLink = document.createElement('div');\n",
              "          docLink.innerHTML = docLinkHtml;\n",
              "          element.appendChild(docLink);\n",
              "        }\n",
              "      </script>\n",
              "    </div>\n",
              "  </div>\n",
              "  "
            ],
            "text/plain": [
              "                                            Filename  ... Third Party Beneficiary-Answer\n",
              "0  2ThemartComInc_19990826_10-12G_EX-10.10_670028...  ...                             No\n",
              "1  ABILITYINC_06_15_2020-EX-4.25-SERVICES AGREEME...  ...                             No\n",
              "2  ACCELERATEDTECHNOLOGIESHOLDINGCORP_04_24_2003-...  ...                             No\n",
              "3  ACCURAYINC_09_01_2010-EX-10.31-DISTRIBUTOR AGR...  ...                             No\n",
              "4  ADAMSGOLFINC_03_21_2005-EX-10.17-ENDORSEMENT A...  ...                             No\n",
              "\n",
              "[5 rows x 83 columns]"
            ]
          },
          "metadata": {},
          "execution_count": 531
        }
      ]
    },
    {
      "cell_type": "code",
      "metadata": {
        "id": "crAd9736rW9q"
      },
      "source": [
        "#filtering requried information from extracted data that is text content and label\n",
        "df = df_csv.filter(['Insurance','Insurance-Answer'], axis = 1)\n",
        "df['label'] = df_csv['Insurance-Answer']\n",
        "df['text'] = df_csv['Insurance']"
      ],
      "execution_count": 532,
      "outputs": []
    },
    {
      "cell_type": "markdown",
      "metadata": {
        "id": "_VpCbuXTns4_"
      },
      "source": [
        "**Text Pre-Processing**"
      ]
    },
    {
      "cell_type": "code",
      "metadata": {
        "id": "-c3peNZ1jKF_"
      },
      "source": [
        "#Importing Libraries\n",
        "from bs4 import BeautifulSoup\n",
        "import nltk"
      ],
      "execution_count": 533,
      "outputs": []
    },
    {
      "cell_type": "code",
      "metadata": {
        "id": "117RCTnxsOd-"
      },
      "source": [
        "#general text processing \n",
        "# removing punctation and white spaces \n",
        "#setting the text to lower case\n",
        "def text_preprocess(text):\n",
        "  text=text.lower()\n",
        "  text=re.compile('[/(){}\\[\\]\\|@,;]').sub(' ', text)\n",
        "  return text"
      ],
      "execution_count": 534,
      "outputs": []
    },
    {
      "cell_type": "code",
      "metadata": {
        "colab": {
          "base_uri": "https://localhost:8080/"
        },
        "id": "tetwjRDwyI3W",
        "outputId": "f8130c36-c5d2-4eca-bbaa-5e8a4e783bc0"
      },
      "source": [
        "df['text']=df['text'].apply(text_preprocess)\n",
        "df['text'].head()"
      ],
      "execution_count": 535,
      "outputs": [
        {
          "output_type": "execute_result",
          "data": {
            "text/plain": [
              "0      \n",
              "1      \n",
              "2      \n",
              "3      \n",
              "4      \n",
              "Name: text, dtype: object"
            ]
          },
          "metadata": {},
          "execution_count": 535
        }
      ]
    },
    {
      "cell_type": "markdown",
      "metadata": {
        "id": "sodDgxFYgvmC"
      },
      "source": [
        "*punctuation removal*"
      ]
    },
    {
      "cell_type": "code",
      "metadata": {
        "colab": {
          "base_uri": "https://localhost:8080/",
          "height": 35
        },
        "id": "TagVlHH1ajZh",
        "outputId": "5af3ce18-f30d-4587-9999-82e13056c28f"
      },
      "source": [
        "# importing library that has punctuation\n",
        "import string\n",
        "string.punctuation"
      ],
      "execution_count": 536,
      "outputs": [
        {
          "output_type": "execute_result",
          "data": {
            "application/vnd.google.colaboratory.intrinsic+json": {
              "type": "string"
            },
            "text/plain": [
              "'!\"#$%&\\'()*+,-./:;<=>?@[\\\\]^_`{|}~'"
            ]
          },
          "metadata": {},
          "execution_count": 536
        }
      ]
    },
    {
      "cell_type": "code",
      "metadata": {
        "id": "oUPNbzXIhbQI"
      },
      "source": [
        "#defining a function to remove punctuation \n",
        "def remove_all_punctuation(text):\n",
        "  punctuation_remove= \"\".join([i for i in text if i not in string.punctuation])\n",
        "  return punctuation_remove\n"
      ],
      "execution_count": 537,
      "outputs": []
    },
    {
      "cell_type": "code",
      "metadata": {
        "colab": {
          "base_uri": "https://localhost:8080/"
        },
        "id": "YdUtPTwwiFLO",
        "outputId": "95991506-45b4-4b73-c6ef-19eda4b08635"
      },
      "source": [
        "#calling punctuation_remove function to clean the data \n",
        "df['text'] = df['text'].apply(lambda x:remove_all_punctuation(x))\n",
        "df['text']"
      ],
      "execution_count": 538,
      "outputs": [
        {
          "output_type": "execute_result",
          "data": {
            "text/plain": [
              "0                                                       \n",
              "1                                                       \n",
              "2                                                       \n",
              "3                                                       \n",
              "4                                                       \n",
              "                             ...                        \n",
              "505                                                     \n",
              "506     each party shall provide a certificate of ins...\n",
              "507                                                     \n",
              "508                                                     \n",
              "509     in addition to vehicle personnel insurance  p...\n",
              "Name: text, Length: 510, dtype: object"
            ]
          },
          "metadata": {},
          "execution_count": 538
        }
      ]
    },
    {
      "cell_type": "code",
      "metadata": {
        "id": "IMjbQ6FttFHj"
      },
      "source": [
        "#space removel\n",
        "df['text'] = df['text'].str.replace('\\d+', '')"
      ],
      "execution_count": 539,
      "outputs": []
    },
    {
      "cell_type": "markdown",
      "metadata": {
        "id": "stX1w77_jLnR"
      },
      "source": [
        "*lowering the text*"
      ]
    },
    {
      "cell_type": "code",
      "metadata": {
        "id": "L-_ehscCiyqn"
      },
      "source": [
        "#setting the text to lower case\n",
        "df['text'] = df['text'].apply(lambda x: x.lower())"
      ],
      "execution_count": 540,
      "outputs": []
    },
    {
      "cell_type": "markdown",
      "metadata": {
        "id": "ldte8zsuEoxK"
      },
      "source": [
        "*HTML removing*"
      ]
    },
    {
      "cell_type": "code",
      "metadata": {
        "id": "18bGjGcFEoOm"
      },
      "source": [
        "#importing package from lib\n",
        "from bs4 import BeautifulSoup "
      ],
      "execution_count": 541,
      "outputs": []
    },
    {
      "cell_type": "code",
      "metadata": {
        "id": "96lP_9KjFDPE"
      },
      "source": [
        "#appling beautiful soup on the text \n",
        "df['text'] = [BeautifulSoup(str(text)).get_text() for text in df['text'].tolist()]"
      ],
      "execution_count": 542,
      "outputs": []
    },
    {
      "cell_type": "markdown",
      "metadata": {
        "id": "XKhmJNRdFFB-"
      },
      "source": [
        "*unicode removal*"
      ]
    },
    {
      "cell_type": "code",
      "metadata": {
        "id": "BdB5kg7RE0yK"
      },
      "source": [
        "#imorting library \n",
        "import unicodedata"
      ],
      "execution_count": 543,
      "outputs": []
    },
    {
      "cell_type": "code",
      "metadata": {
        "id": "6wlhvyqzFKUl"
      },
      "source": [
        "#appling unicode on the text data\n",
        "df['text'] = [unicodedata.normalize('NFKD', str(text)).encode('ascii', 'ignore').decode('utf-8', 'ignore') for text in df['text'].tolist()]"
      ],
      "execution_count": 544,
      "outputs": []
    },
    {
      "cell_type": "markdown",
      "metadata": {
        "id": "LCQKop0eIpSq"
      },
      "source": [
        "contractions removing"
      ]
    },
    {
      "cell_type": "code",
      "metadata": {
        "colab": {
          "base_uri": "https://localhost:8080/"
        },
        "id": "y2I3Cl0VJWc4",
        "outputId": "4303378f-734d-4eb0-efdc-5f893ee411ba"
      },
      "source": [
        "#installing contraction library\n",
        "!pip install contractions"
      ],
      "execution_count": 545,
      "outputs": [
        {
          "output_type": "stream",
          "name": "stdout",
          "text": [
            "Requirement already satisfied: contractions in /usr/local/lib/python3.7/dist-packages (0.0.58)\n",
            "Requirement already satisfied: textsearch>=0.0.21 in /usr/local/lib/python3.7/dist-packages (from contractions) (0.0.21)\n",
            "Requirement already satisfied: pyahocorasick in /usr/local/lib/python3.7/dist-packages (from textsearch>=0.0.21->contractions) (1.4.2)\n",
            "Requirement already satisfied: anyascii in /usr/local/lib/python3.7/dist-packages (from textsearch>=0.0.21->contractions) (0.3.0)\n"
          ]
        }
      ]
    },
    {
      "cell_type": "code",
      "metadata": {
        "id": "V6zzELGzIwF2"
      },
      "source": [
        "#importing library\n",
        "import contractions\n",
        "from contractions import contractions_dict"
      ],
      "execution_count": 546,
      "outputs": []
    },
    {
      "cell_type": "code",
      "metadata": {
        "id": "D-V-zvJIIv32"
      },
      "source": [
        "#appling the contactions list on the text data to remove all contractions\n",
        "for contraction, expansion in contractions_dict.items():\n",
        "  df['text'] = df['text'].str.replace(contraction, expansion)"
      ],
      "execution_count": 547,
      "outputs": []
    },
    {
      "cell_type": "markdown",
      "metadata": {
        "id": "1ozjlZTxjqwE"
      },
      "source": [
        "*tokenization*"
      ]
    },
    {
      "cell_type": "code",
      "metadata": {
        "colab": {
          "base_uri": "https://localhost:8080/"
        },
        "id": "yIgWeMMgjhhn",
        "outputId": "152a1535-2d7e-454a-e30e-5f958ddf4274"
      },
      "source": [
        "#importing library for tokenization\n",
        "import re\n",
        "from nltk.tokenize import word_tokenize\n",
        "nltk.download('punkt')"
      ],
      "execution_count": 548,
      "outputs": [
        {
          "output_type": "stream",
          "name": "stdout",
          "text": [
            "[nltk_data] Downloading package punkt to /root/nltk_data...\n",
            "[nltk_data]   Package punkt is already up-to-date!\n"
          ]
        },
        {
          "output_type": "execute_result",
          "data": {
            "text/plain": [
              "True"
            ]
          },
          "metadata": {},
          "execution_count": 548
        }
      ]
    },
    {
      "cell_type": "code",
      "metadata": {
        "id": "3Y2eX3nFj967"
      },
      "source": [
        "#defining function for tokenization\n",
        "def tokenization(text):\n",
        "  tokens = word_tokenize(text)\n",
        "  return tokens"
      ],
      "execution_count": 549,
      "outputs": []
    },
    {
      "cell_type": "code",
      "metadata": {
        "colab": {
          "base_uri": "https://localhost:8080/"
        },
        "id": "b3rSkj3VkQN7",
        "outputId": "36777607-eb51-4091-ffa5-8c842c7f27c5"
      },
      "source": [
        "#calling tokenization function \n",
        "df['text'] = df['text'].apply(str)\n",
        "df['text'] = df['text'].apply(lambda x: tokenization(x))\n",
        "df['text']"
      ],
      "execution_count": 550,
      "outputs": [
        {
          "output_type": "execute_result",
          "data": {
            "text/plain": [
              "0                                                     []\n",
              "1                                                     []\n",
              "2                                                     []\n",
              "3                                                     []\n",
              "4                                                     []\n",
              "                             ...                        \n",
              "505                                                   []\n",
              "506    [each, party, shall, provide, a, certificate, ...\n",
              "507                                                   []\n",
              "508                                                   []\n",
              "509    [in, addition, to, vehicle, personnel, insuran...\n",
              "Name: text, Length: 510, dtype: object"
            ]
          },
          "metadata": {},
          "execution_count": 550
        }
      ]
    },
    {
      "cell_type": "markdown",
      "metadata": {
        "id": "QcPduTDblFHK"
      },
      "source": [
        "*stop word removal*"
      ]
    },
    {
      "cell_type": "code",
      "metadata": {
        "colab": {
          "base_uri": "https://localhost:8080/"
        },
        "id": "AedO4GX5kq7I",
        "outputId": "a8c19d7a-a753-41ef-a36c-c00fc9bee632"
      },
      "source": [
        "# nltk lib has already imported \n",
        "#stop words in given library\n",
        "nltk.download('stopwords')\n",
        "stopwords = nltk.corpus.stopwords.words('english')\n",
        "stopwords[0:20]"
      ],
      "execution_count": 551,
      "outputs": [
        {
          "output_type": "stream",
          "name": "stdout",
          "text": [
            "[nltk_data] Downloading package stopwords to /root/nltk_data...\n",
            "[nltk_data]   Package stopwords is already up-to-date!\n"
          ]
        },
        {
          "output_type": "execute_result",
          "data": {
            "text/plain": [
              "['i',\n",
              " 'me',\n",
              " 'my',\n",
              " 'myself',\n",
              " 'we',\n",
              " 'our',\n",
              " 'ours',\n",
              " 'ourselves',\n",
              " 'you',\n",
              " \"you're\",\n",
              " \"you've\",\n",
              " \"you'll\",\n",
              " \"you'd\",\n",
              " 'your',\n",
              " 'yours',\n",
              " 'yourself',\n",
              " 'yourselves',\n",
              " 'he',\n",
              " 'him',\n",
              " 'his']"
            ]
          },
          "metadata": {},
          "execution_count": 551
        }
      ]
    },
    {
      "cell_type": "code",
      "metadata": {
        "id": "OaxCbPrelptL"
      },
      "source": [
        "#defining function for stop words\n",
        "def remove_stopwords(text):\n",
        "  output = [i for i in text if i not in stopwords]\n",
        "  return output"
      ],
      "execution_count": 552,
      "outputs": []
    },
    {
      "cell_type": "code",
      "metadata": {
        "colab": {
          "base_uri": "https://localhost:8080/"
        },
        "id": "IW8--YhWV7N0",
        "outputId": "10bc6393-fb1d-475d-e396-af26ad4046c5"
      },
      "source": [
        "#appling the stopwords function to the text content\n",
        "df['text'] = df['text'].apply(lambda x:remove_stopwords(x))\n",
        "df['text']"
      ],
      "execution_count": 553,
      "outputs": [
        {
          "output_type": "execute_result",
          "data": {
            "text/plain": [
              "0                                                     []\n",
              "1                                                     []\n",
              "2                                                     []\n",
              "3                                                     []\n",
              "4                                                     []\n",
              "                             ...                        \n",
              "505                                                   []\n",
              "506    [party, shall, provide, certificate, insurance...\n",
              "507                                                   []\n",
              "508                                                   []\n",
              "509    [addition, vehicle, personnel, insurance, part...\n",
              "Name: text, Length: 510, dtype: object"
            ]
          },
          "metadata": {},
          "execution_count": 553
        }
      ]
    },
    {
      "cell_type": "markdown",
      "metadata": {
        "id": "BW-yrXhpmt8T"
      },
      "source": [
        "*lemmatization*"
      ]
    },
    {
      "cell_type": "code",
      "metadata": {
        "colab": {
          "base_uri": "https://localhost:8080/"
        },
        "id": "3oqwVjaLmgzX",
        "outputId": "05cb500b-84a9-46b8-a7e7-1707ec84d26c"
      },
      "source": [
        "#importing lemmatization from lib\n",
        "from nltk.stem import WordNetLemmatizer\n",
        "nltk.download('wordnet')"
      ],
      "execution_count": 554,
      "outputs": [
        {
          "output_type": "stream",
          "name": "stdout",
          "text": [
            "[nltk_data] Downloading package wordnet to /root/nltk_data...\n",
            "[nltk_data]   Package wordnet is already up-to-date!\n"
          ]
        },
        {
          "output_type": "execute_result",
          "data": {
            "text/plain": [
              "True"
            ]
          },
          "metadata": {},
          "execution_count": 554
        }
      ]
    },
    {
      "cell_type": "code",
      "metadata": {
        "id": "ey9UZyjmns1w"
      },
      "source": [
        "#defining functioon as object\n",
        "wordnet_lemmatizer = WordNetLemmatizer()"
      ],
      "execution_count": 555,
      "outputs": []
    },
    {
      "cell_type": "code",
      "metadata": {
        "id": "uTD1WdMTn52s"
      },
      "source": [
        "#defining the lemmatization function\n",
        "def lemmatizer(text):\n",
        "  lemm_text = [wordnet_lemmatizer.lemmatize(word) for word in text]\n",
        "  return lemm_text"
      ],
      "execution_count": 556,
      "outputs": []
    },
    {
      "cell_type": "code",
      "metadata": {
        "id": "Zm88H-ncofop"
      },
      "source": [
        "#appling lemmization function to text content\n",
        "df['text'] = df['text'].apply(lambda x: lemmatizer(x))"
      ],
      "execution_count": 557,
      "outputs": []
    },
    {
      "cell_type": "markdown",
      "metadata": {
        "id": "rUvvc5rMKZCN"
      },
      "source": [
        "*null values removing*"
      ]
    },
    {
      "cell_type": "code",
      "metadata": {
        "id": "tGn69ekQpGLy"
      },
      "source": [
        "# removing white spaces or null values from the text content \n",
        "df = df[~(df.text.str.strip() == '')]\n",
        "df = df.dropna().reset_index(drop=True)"
      ],
      "execution_count": 558,
      "outputs": []
    },
    {
      "cell_type": "markdown",
      "metadata": {
        "id": "klmvNbIqcrgS"
      },
      "source": [
        "# **splitting data**"
      ]
    },
    {
      "cell_type": "markdown",
      "metadata": {
        "id": "e-iNnzFRffOa"
      },
      "source": [
        "splitting corpus into two parts for testing and training the model.\n",
        "training - 80% \n",
        "test - 20 % \n",
        "so the corpus has to spilt in the ratio of 80:20.\n"
      ]
    },
    {
      "cell_type": "code",
      "metadata": {
        "id": "V1TNmcWYWzuH"
      },
      "source": [
        "from sklearn.model_selection import train_test_split"
      ],
      "execution_count": 559,
      "outputs": []
    },
    {
      "cell_type": "code",
      "metadata": {
        "colab": {
          "base_uri": "https://localhost:8080/"
        },
        "id": "1okE2k8GWz5Q",
        "outputId": "3179ad2a-b471-4720-f4f0-d362bf1bb915"
      },
      "source": [
        "#dividing up labels and data for testing as well as training\n",
        "train_corpus_set, test_corpus_set, train_label_names_set, test_label_names_set = train_test_split(np.array(df['text'].apply(lambda x:np.str_(x))),\n",
        "np.array(df['label']), \n",
        "test_size=0.20, \n",
        "random_state=42)\n",
        "\n",
        "train_corpus_set.shape, test_corpus_set.shape"
      ],
      "execution_count": 560,
      "outputs": [
        {
          "output_type": "execute_result",
          "data": {
            "text/plain": [
              "((408,), (102,))"
            ]
          },
          "metadata": {},
          "execution_count": 560
        }
      ]
    },
    {
      "cell_type": "markdown",
      "source": [
        ""
      ],
      "metadata": {
        "id": "_c7F0dO7pmNL"
      }
    },
    {
      "cell_type": "markdown",
      "metadata": {
        "id": "0J9NMTMQAhV0"
      },
      "source": [
        "# **TF-IDF and classification models**"
      ]
    },
    {
      "cell_type": "markdown",
      "metadata": {
        "id": "lWEplJ7XZalN"
      },
      "source": [
        "## **features extraction**"
      ]
    },
    {
      "cell_type": "markdown",
      "metadata": {
        "id": "bl6uWaxEacey"
      },
      "source": [
        "## *TF-IDF* "
      ]
    },
    {
      "cell_type": "code",
      "metadata": {
        "id": "VdqUwwD4ZZgA"
      },
      "source": [
        "#importing tfidf package from skleran\n",
        "from sklearn.feature_extraction.text import TfidfVectorizer"
      ],
      "execution_count": 561,
      "outputs": []
    },
    {
      "cell_type": "code",
      "metadata": {
        "id": "UiLwZNI8K8lO"
      },
      "source": [
        "#normilization of TF-IDF algorithm\n",
        "tfidf_tv = TfidfVectorizer(use_idf=True, min_df=0.0, max_df=1.0)"
      ],
      "execution_count": 562,
      "outputs": []
    },
    {
      "cell_type": "code",
      "metadata": {
        "id": "89tIzV9vW9Y9"
      },
      "source": [
        "#appling the TF-IDF algorithm to extract features\n",
        "tfidf_tv_train_features = tfidf_tv.fit_transform(train_corpus_set)\n",
        "tfidf_tv_test_features = tfidf_tv.transform(test_corpus_set)"
      ],
      "execution_count": 563,
      "outputs": []
    },
    {
      "cell_type": "code",
      "metadata": {
        "colab": {
          "base_uri": "https://localhost:8080/"
        },
        "id": "OAKtZYoO7KwY",
        "outputId": "a663b860-822d-493f-fba5-71790176ae82"
      },
      "source": [
        "print('TFIDF model:\\n','Train features shape:', tfidf_tv_train_features.shape,'\\n', ' Test features shape:', tfidf_tv_test_features.shape)"
      ],
      "execution_count": 564,
      "outputs": [
        {
          "output_type": "stream",
          "name": "stdout",
          "text": [
            "TFIDF model:\n",
            " Train features shape: (408, 1573) \n",
            "  Test features shape: (102, 1573)\n"
          ]
        }
      ]
    },
    {
      "cell_type": "markdown",
      "metadata": {
        "id": "B05Gb4fNjkKP"
      },
      "source": [
        "## **classification model and  evaluation**"
      ]
    },
    {
      "cell_type": "markdown",
      "metadata": {
        "id": "o-2prQ3IMYcs"
      },
      "source": [
        "## *SVM*"
      ]
    },
    {
      "cell_type": "code",
      "metadata": {
        "id": "tUhkSwwuXCdx"
      },
      "source": [
        "# importing SVM algorithm from sklearn library\n",
        "from sklearn.svm import LinearSVC"
      ],
      "execution_count": 565,
      "outputs": []
    },
    {
      "cell_type": "code",
      "metadata": {
        "colab": {
          "base_uri": "https://localhost:8080/"
        },
        "id": "tDJNNqc57cBk",
        "outputId": "e7615c64-9a3e-4a41-a9be-de74d106ac00"
      },
      "source": [
        "#applying the SVM algorithm on training data to train the model\n",
        "svm_model = LinearSVC(penalty='l2', C=1, random_state=42)\n",
        "svm_model.fit(tfidf_tv_train_features, train_label_names_set)"
      ],
      "execution_count": 566,
      "outputs": [
        {
          "output_type": "execute_result",
          "data": {
            "text/plain": [
              "LinearSVC(C=1, random_state=42)"
            ]
          },
          "metadata": {},
          "execution_count": 566
        }
      ]
    },
    {
      "cell_type": "code",
      "metadata": {
        "colab": {
          "base_uri": "https://localhost:8080/"
        },
        "id": "PDadPkkLNFB5",
        "outputId": "347588c5-d44f-4225-b458-21175c733de6"
      },
      "source": [
        "#classification report of SVM Model\n",
        "from sklearn.metrics import classification_report\n",
        "y_pred = svm_model.predict(tfidf_tv_test_features)\n",
        "print(classification_report(test_label_names_set, y_pred))"
      ],
      "execution_count": 567,
      "outputs": [
        {
          "output_type": "stream",
          "name": "stdout",
          "text": [
            "              precision    recall  f1-score   support\n",
            "\n",
            "          No       1.00      1.00      1.00        71\n",
            "         Yes       1.00      1.00      1.00        31\n",
            "\n",
            "    accuracy                           1.00       102\n",
            "   macro avg       1.00      1.00      1.00       102\n",
            "weighted avg       1.00      1.00      1.00       102\n",
            "\n"
          ]
        }
      ]
    },
    {
      "cell_type": "markdown",
      "metadata": {
        "id": "KVq83Ij3nw3u"
      },
      "source": [
        "###confusion matrix"
      ]
    },
    {
      "cell_type": "code",
      "source": [
        "#confusion matrix\n",
        "from sklearn.metrics import confusion_matrix\n",
        "confusion_matrix_predict = confusion_matrix(test_label_names_set , y_pred)\n",
        "print(confusion_matrix_predict)"
      ],
      "metadata": {
        "colab": {
          "base_uri": "https://localhost:8080/"
        },
        "outputId": "7113d1f2-4ee2-4c28-9863-d7949970452b",
        "id": "C6l_FlMBkABH"
      },
      "execution_count": 568,
      "outputs": [
        {
          "output_type": "stream",
          "name": "stdout",
          "text": [
            "[[71  0]\n",
            " [ 0 31]]\n"
          ]
        }
      ]
    },
    {
      "cell_type": "markdown",
      "metadata": {
        "id": "EiW4x1eUA810"
      },
      "source": [
        "## *logestic regression*"
      ]
    },
    {
      "cell_type": "code",
      "metadata": {
        "id": "E2Wd_zRHE-Ag"
      },
      "source": [
        "#impoorting logistic regression algorithm from sklearn library\n",
        "import sklearn.linear_model as sk\n",
        "from sklearn.linear_model import LogisticRegression\n"
      ],
      "execution_count": 569,
      "outputs": []
    },
    {
      "cell_type": "code",
      "metadata": {
        "colab": {
          "base_uri": "https://localhost:8080/"
        },
        "id": "NofzNDIaBGT7",
        "outputId": "f7a328d8-27a7-4072-cdee-f8ff59f6943b"
      },
      "source": [
        "#applying the SVM algorithm on training data to train the model\n",
        "lr_model = LogisticRegression(penalty='l2', solver='lbfgs', multi_class='ovr',\n",
        "                        max_iter=1000, C=1, random_state=42)\n",
        "lr_model.fit(tfidf_tv_train_features, train_label_names_set)"
      ],
      "execution_count": 570,
      "outputs": [
        {
          "output_type": "execute_result",
          "data": {
            "text/plain": [
              "LogisticRegression(C=1, max_iter=1000, multi_class='ovr', random_state=42)"
            ]
          },
          "metadata": {},
          "execution_count": 570
        }
      ]
    },
    {
      "cell_type": "code",
      "metadata": {
        "colab": {
          "base_uri": "https://localhost:8080/"
        },
        "id": "UwT9SG4lJnIO",
        "outputId": "8f59f3da-3319-41c4-8962-0d52ff60074d"
      },
      "source": [
        "#testing and classification report of LOgestic regression\n",
        "y_pred = lr_model.predict(tfidf_tv_test_features)\n",
        "print(classification_report(test_label_names_set, y_pred))"
      ],
      "execution_count": 571,
      "outputs": [
        {
          "output_type": "stream",
          "name": "stdout",
          "text": [
            "              precision    recall  f1-score   support\n",
            "\n",
            "          No       0.95      1.00      0.97        71\n",
            "         Yes       1.00      0.87      0.93        31\n",
            "\n",
            "    accuracy                           0.96       102\n",
            "   macro avg       0.97      0.94      0.95       102\n",
            "weighted avg       0.96      0.96      0.96       102\n",
            "\n"
          ]
        }
      ]
    },
    {
      "cell_type": "markdown",
      "metadata": {
        "id": "mIB2cbc3kfzn"
      },
      "source": [
        "###confusion matrix"
      ]
    },
    {
      "cell_type": "code",
      "source": [
        "#confusion matrix\n",
        "from sklearn.metrics import confusion_matrix\n",
        "confusion_matrix_predict = confusion_matrix(test_label_names_set , y_pred)\n",
        "print(confusion_matrix_predict)"
      ],
      "metadata": {
        "colab": {
          "base_uri": "https://localhost:8080/"
        },
        "id": "_7SrSxUMSuoQ",
        "outputId": "d7362618-f4f0-47e8-cdc0-86d4c2044228"
      },
      "execution_count": 572,
      "outputs": [
        {
          "output_type": "stream",
          "name": "stdout",
          "text": [
            "[[71  0]\n",
            " [ 4 27]]\n"
          ]
        }
      ]
    }
  ]
}